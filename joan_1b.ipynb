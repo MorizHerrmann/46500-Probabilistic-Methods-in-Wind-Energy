{
 "cells": [
  {
   "cell_type": "markdown",
   "metadata": {},
   "source": [
    "# DTU 46500 :  Assignment 1\n",
    "## Statistical extrapolation for Extreme Winds    (2022)\n",
    "#### Fitting extreme distributions, uncertainty in fitting (including sample-length)\n",
    "> python note: A very convenient method to work with tabular data is the dataframes made available by the pandas package. However, in this particular exercise we don't specifically need dataframes as the amount of work on tabular data is limited to the filtering part. \n",
    "For simplicity we will wait with introducing the dataframes to a future exercise, and we will work with numpy arrays."
   ]
  },
  {
   "cell_type": "code",
   "execution_count": 2,
   "metadata": {},
   "outputs": [],
   "source": [
    "####################################\n",
    "# Special code for Jupyter Notebook\n",
    "####################################\n",
    "# Show plots in the notebook\n",
    "%matplotlib inline \n",
    "\n",
    "# Automatically reload any packages that changed\n",
    "%load_ext autoreload\n",
    "%autoreload 2\n",
    "\n",
    "# Display multiple arguments\n",
    "from IPython.core.interactiveshell import InteractiveShell \n",
    "InteractiveShell.ast_node_interactivity = \"all\""
   ]
  },
  {
   "cell_type": "code",
   "execution_count": 3,
   "metadata": {},
   "outputs": [],
   "source": [
    "import numpy as np\n",
    "import datetime\n",
    "import scipy as sp\n",
    "import matplotlib.pyplot as plt"
   ]
  },
  {
   "cell_type": "code",
   "execution_count": 4,
   "metadata": {},
   "outputs": [],
   "source": [
    "Data = np.genfromtxt('Hovsore2004to2020_U+dir.csv',delimiter=',')\n",
    "Dnames = ['Timestamp','Wsp','MeanDir']"
   ]
  },
  {
   "cell_type": "code",
   "execution_count": 5,
   "metadata": {},
   "outputs": [],
   "source": [
    "# CREATE A DATETIME ARRAY SO WE CAN USE ∆T for removing bad data\n",
    "T = np.empty(Data[:,0].shape, dtype = datetime.datetime) # Empty numpy array of type datetime\n",
    "for i in range(len(Data[:,0])):\n",
    "    T[i] = datetime.datetime.strptime(str(Data[i,0].astype('int64')),'%Y%m%d%H%M')\n",
    "DeltaT = np.diff(T)"
   ]
  },
  {
   "cell_type": "markdown",
   "metadata": {},
   "source": [
    "Insert reasonable values for minimum U to consider, maximum reasonable U (i.e. to avoid instrumental/data errors), and maximum acceptable jump in 10-minute mean windspeed from one record to the next: "
   ]
  },
  {
   "cell_type": "code",
   "execution_count": 6,
   "metadata": {},
   "outputs": [],
   "source": [
    "LowestWindSpeed =5.\n",
    "CrazyWind =60.\n",
    "maxDeltaU10min = 10."
   ]
  },
  {
   "cell_type": "code",
   "execution_count": 7,
   "metadata": {},
   "outputs": [],
   "source": [
    "# CREATE data-selection \"masks\" (by using Boolean T/F arrays)\n",
    "\n",
    "WspOK = ((Data[:,1] > LowestWindSpeed)&(Data[:,1] < CrazyWind)) # Boolean (T or F): reject unrealistic wind speeds\n",
    "\n",
    "DeltaU = np.diff(Data[:,1])\n",
    "dU10min = np.empty(DeltaU.shape,dtype = 'float')\n",
    "for i in range(len(DeltaU)):\n",
    "    dU10min[i] = DeltaU[i]/(DeltaT[i].seconds/600) \n",
    "DeltaUOK = (DeltaU > -maxDeltaU10min) & (DeltaU < maxDeltaU10min) \n",
    "\n",
    "OK1 = (WspOK[0:-1]==True) & (DeltaUOK == True)\n",
    "OK2 = (WspOK[1:]==True) & (DeltaUOK == True)\n",
    "OK1 = np.append(OK1,True)\n",
    "OK2 = np.insert(OK2,0,True)\n",
    "\n",
    "DataOK = OK1 & OK2 # Final filter in terms of a Boolean array"
   ]
  },
  {
   "cell_type": "code",
   "execution_count": 8,
   "metadata": {},
   "outputs": [],
   "source": [
    "# APPLY FILTERS AND COMPUTE YEAR/MONTH VALUES \n",
    "\n",
    "T = T[DataOK]\n",
    "Timestamp = Data[DataOK,0]\n",
    "Wsp = Data[DataOK,1]\n",
    "wdir = Data[DataOK,2]\n",
    "\n",
    "# Compute year and month\n",
    "Year = np.floor(Timestamp/1e8).astype('int64')\n",
    "Month = np.floor(np.mod(Timestamp,1e8)/1e6).astype('int64')\n",
    "#Day = np.floor(np.mod(Timestamp,1e6)/1e4).astype('int64')\n",
    "#Hour = np.floor(np.mod(Timestamp,1e4)/1e2).astype('int64')\n",
    "#Minute = np.floor(np.mod(Timestamp,1e2)/1).astype('int64')"
   ]
  },
  {
   "cell_type": "code",
   "execution_count": 9,
   "metadata": {},
   "outputs": [
    {
     "data": {
      "text/plain": [
       "[<matplotlib.lines.Line2D at 0x7f8713b7e8e0>]"
      ]
     },
     "execution_count": 9,
     "metadata": {},
     "output_type": "execute_result"
    },
    {
     "data": {
      "image/png": "[encoded data removed]",
      "text/plain": [
       "<Figure size 640x480 with 1 Axes>"
      ]
     },
     "metadata": {},
     "output_type": "display_data"
    }
   ],
   "source": [
    "# plot the filtered data to check it:\n",
    "plt.plot(T,Wsp)\n",
    "plt.show()"
   ]
  },
  {
   "cell_type": "code",
   "execution_count": 10,
   "metadata": {},
   "outputs": [],
   "source": [
    "# COMPUTE ANNUAL MAXIMA\n",
    "\n",
    "Years = np.unique(Year)\n",
    "nyears = np.max(Years) - np.min(Years)\n",
    "\n",
    "Umax = np.empty(nyears,dtype = 'float')\n",
    "## since data starts in October, make each \"year\" start then\n",
    "for i in range(nyears):\n",
    "    CurrentPeriod = ((Year==Years[i]) & (Month >= 10)) | ((Year == (Years[i]+1)) & (Month < 10))\n",
    "    Umax[i] = max(Wsp[CurrentPeriod])\n",
    "    "
   ]
  },
  {
   "cell_type": "markdown",
   "metadata": {
    "collapsed": true
   },
   "source": [
    "# [1a]\n",
    "### GUMBEL FIT - METHOD OF Probability-weighted moments (PWM)\n",
    "Use the formulae from class to compute $\\alpha$ and $\\beta$ from $b_0$ and $b_1$ using PWM. \n",
    "\n",
    "Then use $\\{\\alpha,\\beta\\}$ to get $V_{50}$. \n",
    "\n",
    "You'll do this a number of times; \n",
    "- first, based on the whole dataset, \n",
    "- then again, using 2-year non-overlapping segments you'll find 7 \"two-year\" values of $\\{\\alpha,\\beta,V_{50}\\}$. \n",
    "\n",
    "The framework for code below helps you start out.\n",
    "\n",
    "You'll also need to **answer quantitatively: \"how well does this follow a Gumbel distribution!?\" for both cases.**  \n",
    "Try to quantify the variation of using only 2-year periods; how does this compare to theoretical expectation? "
   ]
  },
  {
   "cell_type": "code",
   "execution_count": 11,
   "metadata": {},
   "outputs": [],
   "source": [
    "UmaxSorted = np.sort(Umax)"
   ]
  },
  {
   "cell_type": "code",
   "execution_count": 12,
   "metadata": {},
   "outputs": [
    {
     "ename": "SyntaxError",
     "evalue": "invalid syntax (1757618604.py, line 1)",
     "output_type": "error",
     "traceback": [
      "\u001b[0;36m  File \u001b[0;32m\"/tmp/ipykernel_2706/1757618604.py\"\u001b[0;36m, line \u001b[0;32m1\u001b[0m\n\u001b[0;31m    b0PWM =\u001b[0m\n\u001b[0m            ^\u001b[0m\n\u001b[0;31mSyntaxError\u001b[0m\u001b[0;31m:\u001b[0m invalid syntax\n"
     ]
    }
   ],
   "source": [
    "b0PWM = "
   ]
  },
  {
   "cell_type": "code",
   "execution_count": null,
   "metadata": {},
   "outputs": [],
   "source": [
    "b1PWM = "
   ]
  },
  {
   "cell_type": "code",
   "execution_count": null,
   "metadata": {},
   "outputs": [],
   "source": [
    "alphaPWM = "
   ]
  },
  {
   "cell_type": "code",
   "execution_count": null,
   "metadata": {},
   "outputs": [],
   "source": [
    "betaPWM = "
   ]
  },
  {
   "cell_type": "code",
   "execution_count": null,
   "metadata": {},
   "outputs": [],
   "source": [
    "V50PWM = "
   ]
  },
  {
   "cell_type": "code",
   "execution_count": null,
   "metadata": {},
   "outputs": [],
   "source": [
    "print('PWM: V50= '+str(V50PWM.round(1))+' m/s; alpha='+str(alphaPWM.round(2))+', beta='+str(betaPWM.round(1))+' m/s')"
   ]
  },
  {
   "cell_type": "markdown",
   "metadata": {},
   "source": [
    "### GUMBEL FIT - V50 from another method\n",
    "Now use another method (of your choice) to calculate $V_{50}$ (e.g. max-likelihood, ACER, etc.). <br>\n",
    "How well does this fit the Gumbel PDF (or CDF)?"
   ]
  },
  {
   "cell_type": "code",
   "execution_count": null,
   "metadata": {},
   "outputs": [],
   "source": []
  },
  {
   "cell_type": "code",
   "execution_count": null,
   "metadata": {},
   "outputs": [],
   "source": []
  },
  {
   "cell_type": "code",
   "execution_count": null,
   "metadata": {},
   "outputs": [],
   "source": []
  },
  {
   "cell_type": "markdown",
   "metadata": {},
   "source": [
    "# 1b: Uncertainty in $V_{50}$ estimates\n",
    "Using the $\\alpha$-parameter you found above in [1a] using _the whole 16-year timeseries_, \n",
    "- do bootstrap sampling with many 2-year segments to get a distribution of $f_{2y}(\\alpha$ and $f_{2y}(V_{50})$; \n",
    "     - what is the uncertainty in using 2-year segments, i.e., the standard deviation $\\sigma_{V50_\\textrm{fit 2yr}}$\n",
    "- repeat this for other segment lengths (3 years, 4y...10y), to get (fit) a relation for $\\sigma^2_{V50}(T_\\textrm{segment})$\n",
    "- How does your relation for $\\sigma^2_{V50}(T_\\textrm{segment})$ compare to the Ott(2011) expression for $\\sigma^2_{U_T}$? \n",
    "    - ignoring $\\beta$, how much variation in $\\alpha$ (e.g. $\\sigma_\\alpha/\\langle\\alpha\\rangle$) does your $\\sigma^2_{V50}(T_\\textrm{segment})$ correspond to? "
   ]
  },
  {
   "cell_type": "code",
   "execution_count": 13,
   "metadata": {},
   "outputs": [],
   "source": [
    "def Vgumbel(alpha, beta, T, T0=1):\n",
    "    \"\"\"\n",
    "    Parameters\n",
    "    ----------\n",
    "    alpha : 1st Gumbel parameter.\n",
    "    beta : 2nd Gumbel parameter.\n",
    "    T : return period.\n",
    "    T0 : base period. The default is 1.\n",
    "\n",
    "    Returns\n",
    "    -------\n",
    "    extreme wind speed.\n",
    "\n",
    "    \"\"\"\n",
    "    return beta - alpha * np.log(np.log(1 / (1- T0/T)))\n"
   ]
  },
  {
   "cell_type": "markdown",
   "metadata": {},
   "source": [
    "Bootstrap sampling with many 2-year segments"
   ]
  },
  {
   "cell_type": "code",
   "execution_count": 14,
   "metadata": {},
   "outputs": [
    {
     "data": {
      "image/png": "[encoded data removed]",
      "text/plain": [
       "<Figure size 640x480 with 1 Axes>"
      ]
     },
     "metadata": {},
     "output_type": "display_data"
    },
    {
     "data": {
      "image/png": "[encoded data removed]",
      "text/plain": [
       "<Figure size 640x480 with 1 Axes>"
      ]
     },
     "metadata": {},
     "output_type": "display_data"
    },
    {
     "data": {
      "text/plain": [
       "3.4467305368165846"
      ]
     },
     "execution_count": 14,
     "metadata": {},
     "output_type": "execute_result"
    },
    {
     "data": {
      "text/plain": [
       "7.6336353048477354"
      ]
     },
     "execution_count": 14,
     "metadata": {},
     "output_type": "execute_result"
    },
    {
     "data": {
      "text/plain": [
       "7.345486624231335"
      ]
     },
     "execution_count": 14,
     "metadata": {},
     "output_type": "execute_result"
    }
   ],
   "source": [
    "Nbs = 9000000 #Nbootstrap\\n\",\n",
    "Sbs = 5 #the more the size, the less the STD, Bootstrapsize\\n\",\n",
    "\n",
    "alpha = 2.798\n",
    "Eulerconst = 0.577\n",
    "T0=1\n",
    "T50=50\n",
    "\n",
    "#for ba in range(len(Sbs))\n",
    "BS = np.random.choice(Umax,size = (Nbs,Sbs)) #as many columns Sbs and lines as Nbs\n",
    "Ubs_mean = BS.mean(axis = 1) #Umean from wind maxima for columns Sbs and one line  \n",
    "\n",
    "\n",
    "# we reshape the Ubs_mean matrix \n",
    "Ubs_mean_reshaped = Ubs_mean.reshape(-1,2)  #reshaped for 2 years\n",
    "\n",
    "\n",
    "n = Ubs_mean_reshaped.shape[-1] #yields the number of bootstrap sets\n",
    "\n",
    "# rank the yearly maxima (along last axis) # proceed as before\n",
    "UmaxSorted = np.sort(Ubs_mean_reshaped)\n",
    "\n",
    "# compute moments\n",
    "b0 = np.sum(Ubs_mean_reshaped, -1)/n\n",
    "b1 = np.sum(np.multiply(np.arange(0, n), UmaxSorted), -1) / n / (n-1)\n",
    "    \n",
    "alpha_2 = (2*b1 - b0) / np.log(2)\n",
    "beta = b0 - Eulerconst * alpha_2\n",
    "\n",
    "Vxtr = Vgumbel(alpha_2, beta, T50, T0=T0)\n",
    "alpha_plot =  plt.hist(alpha_2, 50)\n",
    "plt.show()\n",
    "\n",
    "Vxtr_plot =  plt.hist(Vxtr, 50)\n",
    "plt.show()\n",
    "\n",
    "\n",
    "#std for uncertainty\n",
    "Vxtr_std_2 = np.std(Vxtr)\n",
    "Vxtr_std_2\n",
    "\n",
    "#uncertainty\n",
    "kf = (np.sqrt(6)/np.pi)*(np.log(50/Sbs)-Eulerconst)\n",
    "VarUt = ((alpha**2*np.pi**2)/(6*(Sbs)))*(1+1.14*kf+1.1*kf**2)\n",
    "C_2 = np.sqrt(VarUt*(Sbs))\n",
    "C_2\n",
    "\n",
    "#Comparing to the Monte-Carlo\n",
    "qt = (np.log(50/Sbs)-Eulerconst)/np.log(2)\n",
    "MC_Var_Ut = ((alpha**2*np.pi**2)/(6*(Sbs)))*(1+0.584*qt+(0.234*qt**2)/(1-(0.823/(Sbs))))\n",
    "MC_conv_2 = np.sqrt(MC_Var_Ut*(Sbs))\n",
    "MC_conv_2\n",
    "\n",
    "\n",
    "\n"
   ]
  },
  {
   "cell_type": "code",
   "execution_count": 15,
   "metadata": {},
   "outputs": [
    {
     "data": {
      "text/plain": [
       "10.791234749352292"
      ]
     },
     "execution_count": 15,
     "metadata": {},
     "output_type": "execute_result"
    }
   ],
   "source": [
    "MC_Var_Ut"
   ]
  },
  {
   "cell_type": "markdown",
   "metadata": {},
   "source": [
    "Bootstrap sampling with many 3-year segments"
   ]
  },
  {
   "cell_type": "code",
   "execution_count": 21,
   "metadata": {},
   "outputs": [
    {
     "data": {
      "image/png": "[encoded data removed]",
      "text/plain": [
       "<Figure size 640x480 with 1 Axes>"
      ]
     },
     "metadata": {},
     "output_type": "display_data"
    },
    {
     "data": {
      "image/png": "[encoded data removed]",
      "text/plain": [
       "<Figure size 640x480 with 1 Axes>"
      ]
     },
     "metadata": {},
     "output_type": "display_data"
    },
    {
     "data": {
      "text/plain": [
       "2.479423993433654"
      ]
     },
     "execution_count": 21,
     "metadata": {},
     "output_type": "execute_result"
    },
    {
     "data": {
      "text/plain": [
       "7.6336353048477354"
      ]
     },
     "execution_count": 21,
     "metadata": {},
     "output_type": "execute_result"
    },
    {
     "data": {
      "text/plain": [
       "7.345486624231335"
      ]
     },
     "execution_count": 21,
     "metadata": {},
     "output_type": "execute_result"
    }
   ],
   "source": [
    "Nbs = 9000000 #Nbootstrap\\n\",\n",
    "Sbs = 5 #the more the size, the less the STD, Bootstrapsize\\n\",\n",
    "\n",
    "alpha = 2.798\n",
    "Eulerconst = 0.577\n",
    "T0=1\n",
    "T50=50\n",
    "\n",
    "#for ba in range(len(Sbs))\n",
    "BS = np.random.choice(Umax,size = (Nbs,Sbs)) #as many columns Sbs and lines as Nbs\n",
    "Ubs_mean = BS.mean(axis = 1) #Umean from wind maxima for columns Sbs and one line  \n",
    "\n",
    "\n",
    "# we reshape the Ubs_mean matrix \n",
    "Ubs_mean_reshaped = Ubs_mean.reshape(-1,3)  #reshaped for 3 years\n",
    "\n",
    "\n",
    "n = Ubs_mean_reshaped.shape[-1]\n",
    "\n",
    "# rank the yearly maxima (along last axis)\n",
    "UmaxSorted = np.sort(Ubs_mean_reshaped)\n",
    "\n",
    "# compute moments\n",
    "b0 = np.sum(Ubs_mean_reshaped, -1)/n\n",
    "b1 = np.sum(np.multiply(np.arange(0, n), UmaxSorted), -1) / n / (n-1)\n",
    "    \n",
    "alpha_2 = (2*b1 - b0) / np.log(2)\n",
    "beta = b0 - Eulerconst * alpha_2\n",
    "\n",
    "Vxtr = Vgumbel(alpha_2, beta, T50, T0=T0)\n",
    "alpha_plot =  plt.hist(alpha_2, 50)\n",
    "plt.show()\n",
    "\n",
    "Vxtr_plot =  plt.hist(Vxtr, 50)\n",
    "plt.show()\n",
    "\n",
    "\n",
    "#std for uncertainty\n",
    "Vxtr_std_3 = np.std(Vxtr)\n",
    "Vxtr_std_3\n",
    "\n",
    "#uncertainty\n",
    "kf = (np.sqrt(6)/np.pi)*(np.log(50/Sbs)-Eulerconst)\n",
    "VarUt = ((alpha**2*np.pi**2)/(6*(Sbs)))*(1+1.14*kf+1.1*kf**2)\n",
    "C_3 = np.sqrt(VarUt*(Sbs))\n",
    "C_3\n",
    "\n",
    "#Comparing to the Monte-Carlo\n",
    "qt = (np.log(50/Sbs)-Eulerconst)/np.log(2)\n",
    "MC_Var_Ut = ((alpha**2*np.pi**2)/(6*(Sbs)))*(1+0.584*qt+(0.234*qt**2)/(1-(0.823/(Sbs))))\n",
    "MC_conv_3 = np.sqrt(MC_Var_Ut*(Sbs))\n",
    "MC_conv_3\n"
   ]
  },
  {
   "cell_type": "markdown",
   "metadata": {},
   "source": [
    "Bootstrap sampling with many 4-year segments"
   ]
  },
  {
   "cell_type": "code",
   "execution_count": null,
   "metadata": {},
   "outputs": [],
   "source": [
    "Nbs = 9000000 #Nbootstrap\\n\",\n",
    "Sbs = 5 #the more the size, the less the STD, Bootstrapsize\\n\",\n",
    "\n",
    "alpha = 2.798\n",
    "Eulerconst = 0.577\n",
    "T0=1\n",
    "T50=50\n",
    "\n",
    "#for ba in range(len(Sbs))\n",
    "BS = np.random.choice(Umax,size = (Nbs,Sbs)) #as many columns Sbs and lines as Nbs\n",
    "Ubs_mean = BS.mean(axis = 1) #Umean from wind maxima for columns Sbs and one line  \n",
    "\n",
    "\n",
    "# we reshape the Ubs_mean matrix \n",
    "Ubs_mean_reshaped = Ubs_mean.reshape(-1,4)  #reshaped for 4 years\n",
    "\n",
    "\n",
    "n = Ubs_mean_reshaped.shape[-1]\n",
    "\n",
    "# rank the yearly maxima (along last axis)\n",
    "UmaxSorted = np.sort(Ubs_mean_reshaped)\n",
    "\n",
    "# compute moments\n",
    "b0 = np.sum(Ubs_mean_reshaped, -1)/n\n",
    "b1 = np.sum(np.multiply(np.arange(0, n), UmaxSorted), -1) / n / (n-1)\n",
    "    \n",
    "alpha_2 = (2*b1 - b0) / np.log(2)\n",
    "beta = b0 - Eulerconst * alpha_2\n",
    "\n",
    "Vxtr = Vgumbel(alpha_2, beta, T50, T0=T0)\n",
    "alpha_plot =  plt.hist(alpha_2, 50)\n",
    "plt.show()\n",
    "\n",
    "Vxtr_plot =  plt.hist(Vxtr, 50)\n",
    "plt.show()\n",
    "\n",
    "\n",
    "#std for uncertainty\n",
    "Vxtr_std_4 = np.std(Vxtr)\n",
    "Vxtr_std_4\n",
    "\n",
    "#uncertainty\n",
    "kf = (np.sqrt(6)/np.pi)*(np.log(50/Sbs)-Eulerconst)\n",
    "VarUt = ((alpha**2*np.pi**2)/(6*(Sbs)))*(1+1.14*kf+1.1*kf**2)\n",
    "C_4 = np.sqrt(VarUt*(Sbs))\n",
    "C_4\n",
    "\n",
    "#Comparing to the Monte-Carlo\n",
    "qt = (np.log(50/Sbs)-Eulerconst)/np.log(2)\n",
    "MC_Var_Ut = ((alpha**2*np.pi**2)/(6*(Sbs)))*(1+0.584*qt+(0.234*qt**2)/(1-(0.823/(Sbs))))\n",
    "MC_conv_4 = np.sqrt(MC_Var_Ut*(Sbs))\n",
    "MC_conv_4"
   ]
  },
  {
   "cell_type": "markdown",
   "metadata": {},
   "source": [
    "Bootstrap sampling with many 5-year segments"
   ]
  },
  {
   "cell_type": "code",
   "execution_count": null,
   "metadata": {},
   "outputs": [],
   "source": [
    "Nbs = 9000000 #Nbootstrap\\n\",\n",
    "Sbs = 5 #the more the size, the less the STD, Bootstrapsize\\n\",\n",
    "\n",
    "alpha = 2.798\n",
    "Eulerconst = 0.577\n",
    "T0=1\n",
    "T50=50\n",
    "\n",
    "#for ba in range(len(Sbs))\n",
    "BS = np.random.choice(Umax,size = (Nbs,Sbs)) #as many columns Sbs and lines as Nbs\n",
    "Ubs_mean = BS.mean(axis = 1) #Umean from wind maxima for columns Sbs and one line  \n",
    "\n",
    "\n",
    "# we reshape the Ubs_mean matrix \n",
    "Ubs_mean_reshaped = Ubs_mean.reshape(-1,5)  #reshaped for 5 years\n",
    "\n",
    "\n",
    "n = Ubs_mean_reshaped.shape[-1]\n",
    "\n",
    "# rank the yearly maxima (along last axis)\n",
    "UmaxSorted = np.sort(Ubs_mean_reshaped)\n",
    "\n",
    "# compute moments\n",
    "b0 = np.sum(Ubs_mean_reshaped, -1)/n\n",
    "b1 = np.sum(np.multiply(np.arange(0, n), UmaxSorted), -1) / n / (n-1)\n",
    "    \n",
    "alpha_2 = (2*b1 - b0) / np.log(2)\n",
    "beta = b0 - Eulerconst * alpha_2\n",
    "\n",
    "Vxtr = Vgumbel(alpha_2, beta, T50, T0=T0)\n",
    "alpha_plot =  plt.hist(alpha_2, 50)\n",
    "plt.show()\n",
    "\n",
    "Vxtr_plot =  plt.hist(Vxtr, 50)\n",
    "plt.show()\n",
    "\n",
    "\n",
    "#std for uncertainty\n",
    "Vxtr_std_5 = np.std(Vxtr)\n",
    "Vxtr_std_5\n",
    "\n",
    "#uncertainty\n",
    "kf = (np.sqrt(6)/np.pi)*(np.log(50/Sbs)-Eulerconst)\n",
    "VarUt = ((alpha**2*np.pi**2)/(6*(Sbs)))*(1+1.14*kf+1.1*kf**2)\n",
    "C_5 = np.sqrt(VarUt*(Sbs))\n",
    "C_5\n",
    "\n",
    "#Comparing to the Monte-Carlo\n",
    "qt = (np.log(50/Sbs)-Eulerconst)/np.log(2)\n",
    "MC_Var_Ut = ((alpha**2*np.pi**2)/(6*(Sbs)))*(1+0.584*qt+(0.234*qt**2)/(1-(0.823/(Sbs))))\n",
    "MC_conv_5 = np.sqrt(MC_Var_Ut*(Sbs))\n",
    "MC_conv_5"
   ]
  },
  {
   "cell_type": "markdown",
   "metadata": {},
   "source": [
    "Bootstrap sampling with many 6-year segments"
   ]
  },
  {
   "cell_type": "code",
   "execution_count": 1,
   "metadata": {},
   "outputs": [
    {
     "ename": "NameError",
     "evalue": "name 'np' is not defined",
     "output_type": "error",
     "traceback": [
      "\u001b[0;31m---------------------------------------------------------------------------\u001b[0m",
      "\u001b[0;31mNameError\u001b[0m                                 Traceback (most recent call last)",
      "\u001b[0;32m/tmp/ipykernel_2706/1559071078.py\u001b[0m in \u001b[0;36m<module>\u001b[0;34m\u001b[0m\n\u001b[1;32m      8\u001b[0m \u001b[0;34m\u001b[0m\u001b[0m\n\u001b[1;32m      9\u001b[0m \u001b[0;31m#for ba in range(len(Sbs))\u001b[0m\u001b[0;34m\u001b[0m\u001b[0;34m\u001b[0m\u001b[0m\n\u001b[0;32m---> 10\u001b[0;31m \u001b[0mBS\u001b[0m \u001b[0;34m=\u001b[0m \u001b[0mnp\u001b[0m\u001b[0;34m.\u001b[0m\u001b[0mrandom\u001b[0m\u001b[0;34m.\u001b[0m\u001b[0mchoice\u001b[0m\u001b[0;34m(\u001b[0m\u001b[0mUmax\u001b[0m\u001b[0;34m,\u001b[0m\u001b[0msize\u001b[0m \u001b[0;34m=\u001b[0m \u001b[0;34m(\u001b[0m\u001b[0mNbs\u001b[0m\u001b[0;34m,\u001b[0m\u001b[0mSbs\u001b[0m\u001b[0;34m)\u001b[0m\u001b[0;34m)\u001b[0m \u001b[0;31m#as many columns Sbs and lines as Nbs\u001b[0m\u001b[0;34m\u001b[0m\u001b[0;34m\u001b[0m\u001b[0m\n\u001b[0m\u001b[1;32m     11\u001b[0m \u001b[0mUbs_mean\u001b[0m \u001b[0;34m=\u001b[0m \u001b[0mBS\u001b[0m\u001b[0;34m.\u001b[0m\u001b[0mmean\u001b[0m\u001b[0;34m(\u001b[0m\u001b[0maxis\u001b[0m \u001b[0;34m=\u001b[0m \u001b[0;36m1\u001b[0m\u001b[0;34m)\u001b[0m \u001b[0;31m#Umean from wind maxima for columns Sbs and one line\u001b[0m\u001b[0;34m\u001b[0m\u001b[0;34m\u001b[0m\u001b[0m\n\u001b[1;32m     12\u001b[0m \u001b[0;34m\u001b[0m\u001b[0m\n",
      "\u001b[0;31mNameError\u001b[0m: name 'np' is not defined"
     ]
    }
   ],
   "source": [
    "Nbs = 7000000 #Nbootstrap\\n\",\n",
    "Sbs = 5 #the more the size, the less the STD, Bootstrapsize\\n\",\n",
    "\n",
    "alpha = 2.798\n",
    "Eulerconst = 0.577\n",
    "T0=1\n",
    "T50=50\n",
    "\n",
    "#for ba in range(len(Sbs))\n",
    "BS = np.random.choice(Umax,size = (Nbs,Sbs)) #as many columns Sbs and lines as Nbs\n",
    "Ubs_mean = BS.mean(axis = 1) #Umean from wind maxima for columns Sbs and one line  \n",
    "\n",
    "\n",
    "# we reshape the Ubs_mean matrix \n",
    "Ubs_mean_reshaped = Ubs_mean.reshape(-1,7)  #reshaped for 6 years\n",
    "\n",
    "\n",
    "n = Ubs_mean_reshaped.shape[-1]\n",
    "\n",
    "# rank the yearly maxima (along last axis)\n",
    "UmaxSorted = np.sort(Ubs_mean_reshaped)\n",
    "\n",
    "# compute moments\n",
    "b0 = np.sum(Ubs_mean_reshaped, -1)/n\n",
    "b1 = np.sum(np.multiply(np.arange(0, n), UmaxSorted), -1) / n / (n-1)\n",
    "    \n",
    "alpha_2 = (2*b1 - b0) / np.log(2)\n",
    "beta = b0 - Eulerconst * alpha_2\n",
    "\n",
    "Vxtr = Vgumbel(alpha_2, beta, T50, T0=T0)\n",
    "alpha_plot =  plt.hist(alpha_2, 50)\n",
    "plt.show()\n",
    "\n",
    "Vxtr_plot =  plt.hist(Vxtr, 50)\n",
    "plt.show()\n",
    "\n",
    "\n",
    "#std for uncertainty\n",
    "Vxtr_std_6 = np.std(Vxtr)\n",
    "Vxtr_std_6\n",
    "\n",
    "#uncertainty\n",
    "kf = (np.sqrt(6)/np.pi)*(np.log(50/Sbs)-Eulerconst)\n",
    "VarUt = ((alpha**2*np.pi**2)/(6*(Sbs)))*(1+1.14*kf+1.1*kf**2)\n",
    "C_6 = np.sqrt(VarUt*(Sbs))\n",
    "C_6\n",
    "\n",
    "#Comparing to the Monte-Carlo\n",
    "qt = (np.log(50/Sbs)-Eulerconst)/np.log(2)\n",
    "MC_Var_Ut = ((alpha**2*np.pi**2)/(6*(Sbs)))*(1+0.584*qt+(0.234*qt**2)/(1-(0.823/(Sbs))))\n",
    "MC_conv_6 = np.sqrt(MC_Var_Ut*(Sbs))\n",
    "MC_conv_6"
   ]
  },
  {
   "cell_type": "markdown",
   "metadata": {},
   "source": [
    "Bootstrap sampling with many 8-year segments"
   ]
  },
  {
   "cell_type": "code",
   "execution_count": 15,
   "metadata": {},
   "outputs": [
    {
     "ename": "NameError",
     "evalue": "name 'Vgumbel' is not defined",
     "output_type": "error",
     "traceback": [
      "\u001b[0;31m---------------------------------------------------------------------------\u001b[0m",
      "\u001b[0;31mNameError\u001b[0m                                 Traceback (most recent call last)",
      "\u001b[0;32m/tmp/ipykernel_23586/712393045.py\u001b[0m in \u001b[0;36m<module>\u001b[0;34m\u001b[0m\n\u001b[1;32m     28\u001b[0m \u001b[0mbeta\u001b[0m \u001b[0;34m=\u001b[0m \u001b[0mb0\u001b[0m \u001b[0;34m-\u001b[0m \u001b[0mEulerconst\u001b[0m \u001b[0;34m*\u001b[0m \u001b[0malpha_2\u001b[0m\u001b[0;34m\u001b[0m\u001b[0;34m\u001b[0m\u001b[0m\n\u001b[1;32m     29\u001b[0m \u001b[0;34m\u001b[0m\u001b[0m\n\u001b[0;32m---> 30\u001b[0;31m \u001b[0mVxtr\u001b[0m \u001b[0;34m=\u001b[0m \u001b[0mVgumbel\u001b[0m\u001b[0;34m(\u001b[0m\u001b[0malpha_2\u001b[0m\u001b[0;34m,\u001b[0m \u001b[0mbeta\u001b[0m\u001b[0;34m,\u001b[0m \u001b[0mT50\u001b[0m\u001b[0;34m,\u001b[0m \u001b[0mT0\u001b[0m\u001b[0;34m=\u001b[0m\u001b[0mT0\u001b[0m\u001b[0;34m)\u001b[0m\u001b[0;34m\u001b[0m\u001b[0;34m\u001b[0m\u001b[0m\n\u001b[0m\u001b[1;32m     31\u001b[0m \u001b[0malpha_plot\u001b[0m \u001b[0;34m=\u001b[0m  \u001b[0mplt\u001b[0m\u001b[0;34m.\u001b[0m\u001b[0mhist\u001b[0m\u001b[0;34m(\u001b[0m\u001b[0malpha_2\u001b[0m\u001b[0;34m,\u001b[0m \u001b[0;36m50\u001b[0m\u001b[0;34m)\u001b[0m\u001b[0;34m\u001b[0m\u001b[0;34m\u001b[0m\u001b[0m\n\u001b[1;32m     32\u001b[0m \u001b[0mplt\u001b[0m\u001b[0;34m.\u001b[0m\u001b[0mshow\u001b[0m\u001b[0;34m(\u001b[0m\u001b[0;34m)\u001b[0m\u001b[0;34m\u001b[0m\u001b[0;34m\u001b[0m\u001b[0m\n",
      "\u001b[0;31mNameError\u001b[0m: name 'Vgumbel' is not defined"
     ]
    }
   ],
   "source": [
    "Nbs = 8000000 #Nbootstrap\\n\",\n",
    "Sbs = 5 #the more the size, the less the STD, Bootstrapsize\\n\",\n",
    "\n",
    "alpha = 2.798\n",
    "Eulerconst = 0.577\n",
    "T0=1\n",
    "T50=50\n",
    "\n",
    "#for ba in range(len(Sbs))\n",
    "BS = np.random.choice(Umax,size = (Nbs,Sbs)) #as many columns Sbs and lines as Nbs\n",
    "Ubs_mean = BS.mean(axis = 1) #Umean from wind maxima for columns Sbs and one line  \n",
    "\n",
    "\n",
    "# we reshape the Ubs_mean matrix \n",
    "Ubs_mean_reshaped = Ubs_mean.reshape(-1,8)  #reshaped for 7 years\n",
    "\n",
    "\n",
    "n = Ubs_mean_reshaped.shape[-1]\n",
    "\n",
    "# rank the yearly maxima (along last axis)\n",
    "UmaxSorted = np.sort(Ubs_mean_reshaped)\n",
    "\n",
    "# compute moments\n",
    "b0 = np.sum(Ubs_mean_reshaped, -1)/n\n",
    "b1 = np.sum(np.multiply(np.arange(0, n), UmaxSorted), -1) / n / (n-1)\n",
    "    \n",
    "alpha_2 = (2*b1 - b0) / np.log(2)\n",
    "beta = b0 - Eulerconst * alpha_2\n",
    "\n",
    "Vxtr = Vgumbel(alpha_2, beta, T50, T0=T0)\n",
    "alpha_plot =  plt.hist(alpha_2, 50)\n",
    "plt.show()\n",
    "\n",
    "Vxtr_plot =  plt.hist(Vxtr, 50)\n",
    "plt.show()\n",
    "\n",
    "\n",
    "#std for uncertainty\n",
    "Vxtr_std_7 = np.std(Vxtr)\n",
    "Vxtr_std_7\n",
    "\n",
    "#uncertainty\n",
    "kf = (np.sqrt(6)/np.pi)*(np.log(50/Sbs)-Eulerconst)\n",
    "VarUt = ((alpha**2*np.pi**2)/(6*(Sbs)))*(1+1.14*kf+1.1*kf**2)\n",
    "C_7 = np.sqrt(VarUt*(Sbs))\n",
    "C_7\n",
    "\n",
    "#Comparing to the Monte-Carlo\n",
    "qt = (np.log(50/Sbs)-Eulerconst)/np.log(2)\n",
    "MC_Var_Ut = ((alpha**2*np.pi**2)/(6*(Sbs)))*(1+0.584*qt+(0.234*qt**2)/(1-(0.823/(Sbs))))\n",
    "MC_conv_7 = np.sqrt(MC_Var_Ut*(Sbs))\n",
    "MC_conv_7"
   ]
  },
  {
   "cell_type": "markdown",
   "metadata": {},
   "source": [
    "Bootstrap sampling with many 9-year segments"
   ]
  },
  {
   "cell_type": "code",
   "execution_count": 16,
   "metadata": {},
   "outputs": [
    {
     "ename": "NameError",
     "evalue": "name 'Vgumbel' is not defined",
     "output_type": "error",
     "traceback": [
      "\u001b[0;31m---------------------------------------------------------------------------\u001b[0m",
      "\u001b[0;31mNameError\u001b[0m                                 Traceback (most recent call last)",
      "\u001b[0;32m/tmp/ipykernel_23586/3867567593.py\u001b[0m in \u001b[0;36m<module>\u001b[0;34m\u001b[0m\n\u001b[1;32m     28\u001b[0m \u001b[0mbeta\u001b[0m \u001b[0;34m=\u001b[0m \u001b[0mb0\u001b[0m \u001b[0;34m-\u001b[0m \u001b[0mEulerconst\u001b[0m \u001b[0;34m*\u001b[0m \u001b[0malpha_2\u001b[0m\u001b[0;34m\u001b[0m\u001b[0;34m\u001b[0m\u001b[0m\n\u001b[1;32m     29\u001b[0m \u001b[0;34m\u001b[0m\u001b[0m\n\u001b[0;32m---> 30\u001b[0;31m \u001b[0mVxtr\u001b[0m \u001b[0;34m=\u001b[0m \u001b[0mVgumbel\u001b[0m\u001b[0;34m(\u001b[0m\u001b[0malpha_2\u001b[0m\u001b[0;34m,\u001b[0m \u001b[0mbeta\u001b[0m\u001b[0;34m,\u001b[0m \u001b[0mT50\u001b[0m\u001b[0;34m,\u001b[0m \u001b[0mT0\u001b[0m\u001b[0;34m=\u001b[0m\u001b[0mT0\u001b[0m\u001b[0;34m)\u001b[0m\u001b[0;34m\u001b[0m\u001b[0;34m\u001b[0m\u001b[0m\n\u001b[0m\u001b[1;32m     31\u001b[0m \u001b[0malpha_plot\u001b[0m \u001b[0;34m=\u001b[0m  \u001b[0mplt\u001b[0m\u001b[0;34m.\u001b[0m\u001b[0mhist\u001b[0m\u001b[0;34m(\u001b[0m\u001b[0malpha_2\u001b[0m\u001b[0;34m,\u001b[0m \u001b[0;36m50\u001b[0m\u001b[0;34m)\u001b[0m\u001b[0;34m\u001b[0m\u001b[0;34m\u001b[0m\u001b[0m\n\u001b[1;32m     32\u001b[0m \u001b[0mplt\u001b[0m\u001b[0;34m.\u001b[0m\u001b[0mshow\u001b[0m\u001b[0;34m(\u001b[0m\u001b[0;34m)\u001b[0m\u001b[0;34m\u001b[0m\u001b[0;34m\u001b[0m\u001b[0m\n",
      "\u001b[0;31mNameError\u001b[0m: name 'Vgumbel' is not defined"
     ]
    }
   ],
   "source": [
    "Nbs = 9000000 #Nbootstrap\\n\",\n",
    "Sbs = 5 #the more the size, the less the STD, Bootstrapsize\\n\",\n",
    "\n",
    "alpha = 2.798\n",
    "Eulerconst = 0.577\n",
    "T0=1\n",
    "T50=50\n",
    "\n",
    "#for ba in range(len(Sbs))\n",
    "BS = np.random.choice(Umax,size = (Nbs,Sbs)) #as many columns Sbs and lines as Nbs\n",
    "Ubs_mean = BS.mean(axis = 1) #Umean from wind maxima for columns Sbs and one line  \n",
    "\n",
    "\n",
    "# we reshape the Ubs_mean matrix \n",
    "Ubs_mean_reshaped = Ubs_mean.reshape(-1,9)  #reshaped for 8 years\n",
    "\n",
    "\n",
    "n = Ubs_mean_reshaped.shape[-1]\n",
    "\n",
    "# rank the yearly maxima (along last axis)\n",
    "UmaxSorted = np.sort(Ubs_mean_reshaped)\n",
    "\n",
    "# compute moments\n",
    "b0 = np.sum(Ubs_mean_reshaped, -1)/n\n",
    "b1 = np.sum(np.multiply(np.arange(0, n), UmaxSorted), -1) / n / (n-1)\n",
    "    \n",
    "alpha_2 = (2*b1 - b0) / np.log(2)\n",
    "beta = b0 - Eulerconst * alpha_2\n",
    "\n",
    "Vxtr = Vgumbel(alpha_2, beta, T50, T0=T0)\n",
    "alpha_plot =  plt.hist(alpha_2, 50)\n",
    "plt.show()\n",
    "\n",
    "Vxtr_plot =  plt.hist(Vxtr, 50)\n",
    "plt.show()\n",
    "\n",
    "\n",
    "#std for uncertainty\n",
    "Vxtr_std_8 = np.std(Vxtr)\n",
    "Vxtr_std_8\n",
    "\n",
    "#uncertainty\n",
    "kf = (np.sqrt(6)/np.pi)*(np.log(50/Sbs)-Eulerconst)\n",
    "VarUt = ((alpha**2*np.pi**2)/(6*(Sbs)))*(1+1.14*kf+1.1*kf**2)\n",
    "C_8 = np.sqrt(VarUt*(Sbs))\n",
    "C_8\n",
    "\n",
    "#Comparing to the Monte-Carlo\n",
    "qt = (np.log(50/Sbs)-Eulerconst)/np.log(2)\n",
    "MC_Var_Ut = ((alpha**2*np.pi**2)/(6*(Sbs)))*(1+0.584*qt+(0.234*qt**2)/(1-(0.823/(Sbs))))\n",
    "MC_conv_8 = np.sqrt(MC_Var_Ut*(Sbs))\n",
    "MC_conv_8"
   ]
  },
  {
   "cell_type": "markdown",
   "metadata": {},
   "source": [
    "Bootstrap sampling with many 10-year segments"
   ]
  },
  {
   "cell_type": "code",
   "execution_count": 17,
   "metadata": {},
   "outputs": [
    {
     "ename": "NameError",
     "evalue": "name 'Vgumbel' is not defined",
     "output_type": "error",
     "traceback": [
      "\u001b[0;31m---------------------------------------------------------------------------\u001b[0m",
      "\u001b[0;31mNameError\u001b[0m                                 Traceback (most recent call last)",
      "\u001b[0;32m/tmp/ipykernel_23586/1042714344.py\u001b[0m in \u001b[0;36m<module>\u001b[0;34m\u001b[0m\n\u001b[1;32m     28\u001b[0m \u001b[0mbeta\u001b[0m \u001b[0;34m=\u001b[0m \u001b[0mb0\u001b[0m \u001b[0;34m-\u001b[0m \u001b[0mEulerconst\u001b[0m \u001b[0;34m*\u001b[0m \u001b[0malpha_2\u001b[0m\u001b[0;34m\u001b[0m\u001b[0;34m\u001b[0m\u001b[0m\n\u001b[1;32m     29\u001b[0m \u001b[0;34m\u001b[0m\u001b[0m\n\u001b[0;32m---> 30\u001b[0;31m \u001b[0mVxtr\u001b[0m \u001b[0;34m=\u001b[0m \u001b[0mVgumbel\u001b[0m\u001b[0;34m(\u001b[0m\u001b[0malpha_2\u001b[0m\u001b[0;34m,\u001b[0m \u001b[0mbeta\u001b[0m\u001b[0;34m,\u001b[0m \u001b[0mT50\u001b[0m\u001b[0;34m,\u001b[0m \u001b[0mT0\u001b[0m\u001b[0;34m=\u001b[0m\u001b[0mT0\u001b[0m\u001b[0;34m)\u001b[0m\u001b[0;34m\u001b[0m\u001b[0;34m\u001b[0m\u001b[0m\n\u001b[0m\u001b[1;32m     31\u001b[0m \u001b[0malpha_plot\u001b[0m \u001b[0;34m=\u001b[0m  \u001b[0mplt\u001b[0m\u001b[0;34m.\u001b[0m\u001b[0mhist\u001b[0m\u001b[0;34m(\u001b[0m\u001b[0malpha_2\u001b[0m\u001b[0;34m,\u001b[0m \u001b[0;36m50\u001b[0m\u001b[0;34m)\u001b[0m\u001b[0;34m\u001b[0m\u001b[0;34m\u001b[0m\u001b[0m\n\u001b[1;32m     32\u001b[0m \u001b[0mplt\u001b[0m\u001b[0;34m.\u001b[0m\u001b[0mshow\u001b[0m\u001b[0;34m(\u001b[0m\u001b[0;34m)\u001b[0m\u001b[0;34m\u001b[0m\u001b[0;34m\u001b[0m\u001b[0m\n",
      "\u001b[0;31mNameError\u001b[0m: name 'Vgumbel' is not defined"
     ]
    }
   ],
   "source": [
    "Nbs = 10000000 #Nbootstrap\\n\",\n",
    "Sbs = 5 #the more the size, the less the STD, Bootstrapsize\\n\",\n",
    "\n",
    "alpha = 2.798\n",
    "Eulerconst = 0.577\n",
    "T0=1\n",
    "T50=50\n",
    "\n",
    "#for ba in range(len(Sbs))\n",
    "BS = np.random.choice(Umax,size = (Nbs,Sbs)) #as many columns Sbs and lines as Nbs\n",
    "Ubs_mean = BS.mean(axis = 1) #Umean from wind maxima for columns Sbs and one line  \n",
    "\n",
    "\n",
    "# we reshape the Ubs_mean matrix \n",
    "Ubs_mean_reshaped = Ubs_mean.reshape(-1,10)  #reshaped for 9 years\n",
    "\n",
    "\n",
    "n = Ubs_mean_reshaped.shape[-1]\n",
    "\n",
    "# rank the yearly maxima (along last axis)\n",
    "UmaxSorted = np.sort(Ubs_mean_reshaped)\n",
    "\n",
    "# compute moments\n",
    "b0 = np.sum(Ubs_mean_reshaped, -1)/n\n",
    "b1 = np.sum(np.multiply(np.arange(0, n), UmaxSorted), -1) / n / (n-1)\n",
    "    \n",
    "alpha_2 = (2*b1 - b0) / np.log(2)\n",
    "beta = b0 - Eulerconst * alpha_2\n",
    "\n",
    "Vxtr = Vgumbel(alpha_2, beta, T50, T0=T0)\n",
    "alpha_plot =  plt.hist(alpha_2, 50)\n",
    "plt.show()\n",
    "\n",
    "Vxtr_plot =  plt.hist(Vxtr, 50)\n",
    "plt.show()\n",
    "\n",
    "\n",
    "#std for uncertainty\n",
    "Vxtr_std_9 = np.std(Vxtr)\n",
    "Vxtr_std_9\n",
    "\n",
    "#uncertainty\n",
    "kf = (np.sqrt(6)/np.pi)*(np.log(50/Sbs)-Eulerconst)\n",
    "VarUt = ((alpha**2*np.pi**2)/(6*(Sbs)))*(1+1.14*kf+1.1*kf**2)\n",
    "C_9 = np.sqrt(VarUt*(Sbs))\n",
    "C_9\n",
    "\n",
    "#Comparing to the Monte-Carlo\n",
    "qt = (np.log(50/Sbs)-Eulerconst)/np.log(2)\n",
    "MC_Var_Ut = ((alpha**2*np.pi**2)/(6*(Sbs)))*(1+0.584*qt+(0.234*qt**2)/(1-(0.823/(Sbs))))\n",
    "MC_conv_9 = np.sqrt(MC_Var_Ut*(Sbs))\n",
    "MC_conv_9"
   ]
  },
  {
   "cell_type": "code",
   "execution_count": 18,
   "metadata": {},
   "outputs": [
    {
     "ename": "NameError",
     "evalue": "name 'Vxtr_std_2' is not defined",
     "output_type": "error",
     "traceback": [
      "\u001b[0;31m---------------------------------------------------------------------------\u001b[0m",
      "\u001b[0;31mNameError\u001b[0m                                 Traceback (most recent call last)",
      "\u001b[0;32m/tmp/ipykernel_23586/128153120.py\u001b[0m in \u001b[0;36m<module>\u001b[0;34m\u001b[0m\n\u001b[1;32m      1\u001b[0m \u001b[0myears\u001b[0m\u001b[0;34m=\u001b[0m\u001b[0;34m[\u001b[0m\u001b[0;36m2\u001b[0m\u001b[0;34m,\u001b[0m\u001b[0;36m3\u001b[0m\u001b[0;34m,\u001b[0m\u001b[0;36m4\u001b[0m\u001b[0;34m,\u001b[0m\u001b[0;36m5\u001b[0m\u001b[0;34m,\u001b[0m\u001b[0;36m6\u001b[0m\u001b[0;34m,\u001b[0m\u001b[0;36m7\u001b[0m\u001b[0;34m,\u001b[0m\u001b[0;36m8\u001b[0m\u001b[0;34m,\u001b[0m\u001b[0;36m9\u001b[0m\u001b[0;34m]\u001b[0m\u001b[0;34m\u001b[0m\u001b[0;34m\u001b[0m\u001b[0m\n\u001b[0;32m----> 2\u001b[0;31m \u001b[0mVxtr_std\u001b[0m\u001b[0;34m=\u001b[0m\u001b[0;34m[\u001b[0m\u001b[0mVxtr_std_2\u001b[0m\u001b[0;34m,\u001b[0m\u001b[0mVxtr_std_3\u001b[0m\u001b[0;34m,\u001b[0m\u001b[0mVxtr_std_4\u001b[0m\u001b[0;34m,\u001b[0m\u001b[0mVxtr_std_5\u001b[0m\u001b[0;34m,\u001b[0m\u001b[0mVxtr_std_6\u001b[0m\u001b[0;34m,\u001b[0m\u001b[0mVxtr_std_7\u001b[0m\u001b[0;34m,\u001b[0m\u001b[0mVxtr_std_8\u001b[0m\u001b[0;34m,\u001b[0m\u001b[0mVxtr_std_9\u001b[0m\u001b[0;34m]\u001b[0m\u001b[0;34m\u001b[0m\u001b[0;34m\u001b[0m\u001b[0m\n\u001b[0m\u001b[1;32m      3\u001b[0m \u001b[0mC\u001b[0m\u001b[0;34m=\u001b[0m\u001b[0;34m[\u001b[0m\u001b[0mC_2\u001b[0m\u001b[0;34m,\u001b[0m\u001b[0mC_3\u001b[0m\u001b[0;34m,\u001b[0m\u001b[0mC_4\u001b[0m\u001b[0;34m,\u001b[0m\u001b[0mC_5\u001b[0m\u001b[0;34m,\u001b[0m\u001b[0mC_6\u001b[0m\u001b[0;34m,\u001b[0m\u001b[0mC_7\u001b[0m\u001b[0;34m,\u001b[0m\u001b[0mC_8\u001b[0m\u001b[0;34m,\u001b[0m\u001b[0mC_9\u001b[0m\u001b[0;34m]\u001b[0m\u001b[0;34m\u001b[0m\u001b[0;34m\u001b[0m\u001b[0m\n\u001b[1;32m      4\u001b[0m \u001b[0mMC_conv\u001b[0m\u001b[0;34m=\u001b[0m\u001b[0;34m[\u001b[0m\u001b[0mMC_conv_2\u001b[0m\u001b[0;34m,\u001b[0m\u001b[0mMC_conv_3\u001b[0m\u001b[0;34m,\u001b[0m\u001b[0mMC_conv_4\u001b[0m\u001b[0;34m,\u001b[0m\u001b[0mMC_conv_5\u001b[0m\u001b[0;34m,\u001b[0m\u001b[0mMC_conv_6\u001b[0m\u001b[0;34m,\u001b[0m\u001b[0mMC_conv_7\u001b[0m\u001b[0;34m,\u001b[0m\u001b[0mMC_conv_8\u001b[0m\u001b[0;34m,\u001b[0m\u001b[0mMC_conv_9\u001b[0m\u001b[0;34m]\u001b[0m\u001b[0;34m\u001b[0m\u001b[0;34m\u001b[0m\u001b[0m\n\u001b[1;32m      5\u001b[0m \u001b[0mC\u001b[0m\u001b[0;34m\u001b[0m\u001b[0;34m\u001b[0m\u001b[0m\n",
      "\u001b[0;31mNameError\u001b[0m: name 'Vxtr_std_2' is not defined"
     ]
    }
   ],
   "source": [
    "years=[2,3,4,5,6,7,8,9]\n",
    "Vxtr_std=[Vxtr_std_2,Vxtr_std_3,Vxtr_std_4,Vxtr_std_5,Vxtr_std_6,Vxtr_std_7,Vxtr_std_8,Vxtr_std_9]\n",
    "C=[C_2,C_3,C_4,C_5,C_6,C_7,C_8,C_9]\n",
    "MC_conv=[MC_conv_2,MC_conv_3,MC_conv_4,MC_conv_5,MC_conv_6,MC_conv_7,MC_conv_8,MC_conv_9]\n",
    "C\n",
    "MC_conv\n",
    "\n",
    "\n",
    "_= plt.figure();\n",
    "_= plt.plot(years,Vxtr_std);\n",
    "_= plt.plot(years,C);\n",
    "_= plt.plot(years,MC_conv);\n",
    "_= plt.title('Comparisson 3 different Methods');\n",
    "_= plt.xlabel('Number of Years');\n",
    "_= plt.ylabel('Standard deviation');\n",
    "_= plt.legend(['Standard Deviation','Uncertainty Estimate','Monte Carlo']);\n",
    "plt.show()"
   ]
  },
  {
   "cell_type": "code",
   "execution_count": null,
   "metadata": {},
   "outputs": [],
   "source": []
  }
 ],
 "metadata": {
  "anaconda-cloud": {},
  "kernelspec": {
   "display_name": "Python 3 (ipykernel)",
   "language": "python",
   "name": "python3"
  },
  "language_info": {
   "codemirror_mode": {
    "name": "ipython",
    "version": 3
   },
   "file_extension": ".py",
   "mimetype": "text/x-python",
   "name": "python",
   "nbconvert_exporter": "python",
   "pygments_lexer": "ipython3",
   "version": "3.9.12"
  }
 },
 "nbformat": 4,
 "nbformat_minor": 2
}
