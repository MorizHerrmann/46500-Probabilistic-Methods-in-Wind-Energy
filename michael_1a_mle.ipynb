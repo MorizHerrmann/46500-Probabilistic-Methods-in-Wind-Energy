{
 "cells": [
  {
   "cell_type": "markdown",
   "metadata": {},
   "source": [
    "# DTU 46500 :  Assignment 1\n",
    "## Statistical extrapolation for Extreme Winds    (2022)\n",
    "#### Fitting extreme distributions, uncertainty in fitting (including sample-length)\n",
    "> python note: A very convenient method to work with tabular data is the dataframes made available by the pandas package. However, in this particular exercise we don't specifically need dataframes as the amount of work on tabular data is limited to the filtering part. \n",
    "For simplicity we will wait with introducing the dataframes to a future exercise, and we will work with numpy arrays."
   ]
  },
  {
   "cell_type": "code",
   "execution_count": 1,
   "metadata": {},
   "outputs": [],
   "source": [
    "####################################\n",
    "# Special code for Jupyter Notebook\n",
    "####################################\n",
    "# Show plots in the notebook\n",
    "%matplotlib inline \n",
    "\n",
    "# Automatically reload any packages that changed\n",
    "%load_ext autoreload\n",
    "%autoreload 2\n",
    "\n",
    "# Display multiple arguments\n",
    "from IPython.core.interactiveshell import InteractiveShell \n",
    "InteractiveShell.ast_node_interactivity = \"all\""
   ]
  },
  {
   "cell_type": "code",
   "execution_count": 2,
   "metadata": {},
   "outputs": [],
   "source": [
    "import numpy as np\n",
    "import datetime\n",
    "import scipy as sp\n",
    "import matplotlib.pyplot as plt"
   ]
  },
  {
   "cell_type": "code",
   "execution_count": 3,
   "metadata": {},
   "outputs": [],
   "source": [
    "Data = np.genfromtxt('Hovsore2004to2020_U+dir.csv',delimiter=',')\n",
    "Dnames = ['Timestamp','Wsp','MeanDir']"
   ]
  },
  {
   "cell_type": "code",
   "execution_count": 4,
   "metadata": {},
   "outputs": [],
   "source": [
    "# CREATE A DATETIME ARRAY SO WE CAN USE ∆T for removing bad data\n",
    "T = np.empty(Data[:,0].shape, dtype = datetime.datetime) # Empty numpy array of type datetime\n",
    "for i in range(len(Data[:,0])):\n",
    "    T[i] = datetime.datetime.strptime(str(Data[i,0].astype('int64')),'%Y%m%d%H%M')\n",
    "DeltaT = np.diff(T)"
   ]
  },
  {
   "cell_type": "code",
   "execution_count": 5,
   "metadata": {},
   "outputs": [
    {
     "data": {
      "text/plain": [
       "array([datetime.timedelta(seconds=600), datetime.timedelta(seconds=600),\n",
       "       datetime.timedelta(seconds=600), ...,\n",
       "       datetime.timedelta(seconds=600), datetime.timedelta(seconds=600),\n",
       "       datetime.timedelta(seconds=600)], dtype=object)"
      ]
     },
     "execution_count": 5,
     "metadata": {},
     "output_type": "execute_result"
    }
   ],
   "source": [
    "DeltaT"
   ]
  },
  {
   "cell_type": "markdown",
   "metadata": {},
   "source": [
    "Insert reasonable values for minimum U to consider, maximum reasonable U (i.e. to avoid instrumental/data errors), and maximum acceptable jump in 10-minute mean windspeed from one record to the next: "
   ]
  },
  {
   "cell_type": "code",
   "execution_count": 6,
   "metadata": {},
   "outputs": [],
   "source": [
    "LowestWindSpeed = 0.5 # find something \n",
    "CrazyWind = 228/3.6 # highest recorded in europe, alto de orduna\n",
    "maxDeltaU10min = 10. # maximum change of data between two 10 minute ranges"
   ]
  },
  {
   "cell_type": "code",
   "execution_count": 7,
   "metadata": {},
   "outputs": [],
   "source": [
    "# CREATE data-selection \"masks\" (by using Boolean T/F arrays)\n",
    "\n",
    "WspOK = ((Data[:,1] > LowestWindSpeed)&(Data[:,1] < CrazyWind)) # Boolean (T or F): reject unrealistic wind speeds\n",
    "\n",
    "DeltaU = np.diff(Data[:,1])\n",
    "dU10min = np.empty(DeltaU.shape,dtype = 'float')\n",
    "for i in range(len(DeltaU)):\n",
    "    dU10min[i] = DeltaU[i]/(DeltaT[i].seconds/600) \n",
    "DeltaUOK = (DeltaU > -maxDeltaU10min) & (DeltaU < maxDeltaU10min) \n",
    "\n",
    "OK1 = (WspOK[0:-1]==True) & (DeltaUOK == True)\n",
    "OK2 = (WspOK[1:]==True) & (DeltaUOK == True)\n",
    "OK1 = np.append(OK1,True)\n",
    "OK2 = np.insert(OK2,0,True)\n",
    "\n",
    "DataOK = OK1 & OK2 # Final filter in terms of a Boolean array"
   ]
  },
  {
   "cell_type": "code",
   "execution_count": 8,
   "metadata": {},
   "outputs": [],
   "source": [
    "# APPLY FILTERS AND COMPUTE YEAR/MONTH VALUES \n",
    "\n",
    "T = T[DataOK]\n",
    "Timestamp = Data[DataOK,0]\n",
    "Wsp = Data[DataOK,1]\n",
    "wdir = Data[DataOK,2]\n",
    "\n",
    "# Compute year and month\n",
    "Year = np.floor(Timestamp/1e8).astype('int64')\n",
    "Month = np.floor(np.mod(Timestamp,1e8)/1e6).astype('int64')\n",
    "#Day = np.floor(np.mod(Timestamp,1e6)/1e4).astype('int64')\n",
    "#Hour = np.floor(np.mod(Timestamp,1e4)/1e2).astype('int64')\n",
    "#Minute = np.floor(np.mod(Timestamp,1e2)/1).astype('int64')"
   ]
  },
  {
   "cell_type": "code",
   "execution_count": 9,
   "metadata": {},
   "outputs": [
    {
     "data": {
      "text/plain": [
       "[<matplotlib.lines.Line2D at 0x7f14d1788f10>]"
      ]
     },
     "execution_count": 9,
     "metadata": {},
     "output_type": "execute_result"
    },
    {
     "data": {
      "image/png": "[encoded data removed]",
      "text/plain": [
       "<Figure size 640x480 with 1 Axes>"
      ]
     },
     "metadata": {},
     "output_type": "display_data"
    }
   ],
   "source": [
    "# plot the filtered data to check it:\n",
    "plt.plot(T,Wsp)\n",
    "plt.show()"
   ]
  },
  {
   "cell_type": "code",
   "execution_count": 10,
   "metadata": {},
   "outputs": [],
   "source": [
    "# COMPUTE ANNUAL MAXIMA\n",
    "\n",
    "Years = np.unique(Year) # yields the unique values of years\n",
    "nyears = np.max(Years) - np.min(Years) # yields the number n of years\n",
    "\n",
    "Umax = np.empty(nyears,dtype = 'float') # initialize an empty array\n",
    "## since data starts in October, make each \"year\" start then\n",
    "for i in range(nyears):\n",
    "    CurrentPeriod = ((Year==Years[i]) & (Month >= 10)) | ((Year == (Years[i]+1)) & (Month < 10))\n",
    "    Umax[i] = max(Wsp[CurrentPeriod])"
   ]
  },
  {
   "cell_type": "markdown",
   "metadata": {
    "collapsed": true
   },
   "source": [
    "# [1a]\n",
    "### GUMBEL FIT - METHOD OF Probability-weighted moments (PWM)\n",
    "Use the formulae from class to compute $\\alpha$ and $\\beta$ from $b_0$ and $b_1$ using PWM. \n",
    "\n",
    "Then use $\\{\\alpha,\\beta\\}$ to get $V_{50}$. \n",
    "\n",
    "You'll do this a number of times; \n",
    "- first, based on the whole dataset, \n",
    "- then again, using 2-year non-overlapping segments you'll find 7 \"two-year\" values of $\\{\\alpha,\\beta,V_{50}\\}$. \n",
    "\n",
    "The framework for code below helps you start out.\n",
    "\n",
    "You'll also need to **answer quantitatively: \"how well does this follow a Gumbel distribution!?\" for both cases.**  \n",
    "Try to quantify the variation of using only 2-year periods; how does this compare to theoretical expectation? "
   ]
  },
  {
   "cell_type": "code",
   "execution_count": null,
   "metadata": {},
   "outputs": [],
   "source": []
  },
  {
   "cell_type": "code",
   "execution_count": 11,
   "metadata": {},
   "outputs": [],
   "source": [
    "UmaxSorted = np.sort(Umax) # 1. Sort by U by value\n",
    "N = len(UmaxSorted)\n",
    "gamma = 0.577 # euler mascheroni np.euler_gamma"
   ]
  },
  {
   "cell_type": "code",
   "execution_count": 12,
   "metadata": {},
   "outputs": [
    {
     "data": {
      "image/png": "[encoded data removed]",
      "text/plain": [
       "<Figure size 640x480 with 1 Axes>"
      ]
     },
     "metadata": {},
     "output_type": "display_data"
    }
   ],
   "source": [
    "fig1 = plt.figure()\n",
    "axs1 = plt.gca()\n",
    "hist1 = axs1.hist(UmaxSorted,50)"
   ]
  },
  {
   "cell_type": "code",
   "execution_count": 13,
   "metadata": {},
   "outputs": [],
   "source": [
    "b0PWM = (1/N) * np.sum( UmaxSorted ) #calc b0 value first parameter"
   ]
  },
  {
   "cell_type": "code",
   "execution_count": 14,
   "metadata": {},
   "outputs": [],
   "source": [
    "#b1PWM # 10 to 20 "
   ]
  },
  {
   "cell_type": "code",
   "execution_count": 15,
   "metadata": {},
   "outputs": [],
   "source": [
    "#----> calculate b1PWM - second parameter\n",
    "#b1PWM = np.sum( (1/len(UmaxSorted))*(/)*UmaxSorted ) \n",
    "b1PWM = 0\n",
    "for i in range(1,N):\n",
    "    b1PWM =((i-1) /(N-1) ) * UmaxSorted[i]\n",
    "b1PWM = (1/N)*b1PWM"
   ]
  },
  {
   "cell_type": "code",
   "execution_count": 16,
   "metadata": {},
   "outputs": [
    {
     "data": {
      "text/plain": [
       "2.3680824597676597"
      ]
     },
     "execution_count": 16,
     "metadata": {},
     "output_type": "execute_result"
    }
   ],
   "source": [
    "b1PWM"
   ]
  },
  {
   "cell_type": "code",
   "execution_count": 17,
   "metadata": {},
   "outputs": [
    {
     "name": "stdout",
     "output_type": "stream",
     "text": [
      "16.815586121877033\n"
     ]
    }
   ],
   "source": [
    "index_list = np.arange(0,16)\n",
    "b1_test = np.sum((1/((N-1)*N) * index_list*UmaxSorted ))\n",
    "print(b1_test)\n",
    "b1PWM = b1_test"
   ]
  },
  {
   "cell_type": "code",
   "execution_count": 18,
   "metadata": {},
   "outputs": [],
   "source": [
    "alphaPWM = (2*b1PWM - b0PWM) / np.log(2) # ususally between 1-3"
   ]
  },
  {
   "cell_type": "code",
   "execution_count": 19,
   "metadata": {},
   "outputs": [],
   "source": [
    "betaPWM = b0PWM - gamma*alphaPWM #10 to 20 ususally"
   ]
  },
  {
   "cell_type": "code",
   "execution_count": 20,
   "metadata": {},
   "outputs": [],
   "source": [
    "V50PWM = betaPWM + alphaPWM*np.log(50) # yields 50 year "
   ]
  },
  {
   "cell_type": "code",
   "execution_count": 21,
   "metadata": {},
   "outputs": [
    {
     "name": "stdout",
     "output_type": "stream",
     "text": [
      "PWM: V50= 41.0 m/s; alpha=2.8, beta=30.1 m/s\n"
     ]
    }
   ],
   "source": [
    "print('PWM: V50= '+str(V50PWM.round(1))+' m/s; alpha='+str(alphaPWM.round(2))+', beta='+str(betaPWM.round(1))+' m/s')"
   ]
  },
  {
   "cell_type": "code",
   "execution_count": 22,
   "metadata": {},
   "outputs": [
    {
     "ename": "SyntaxError",
     "evalue": "invalid syntax (200304841.py, line 7)",
     "output_type": "error",
     "traceback": [
      "\u001b[0;36m  File \u001b[0;32m\"/tmp/ipykernel_2802/200304841.py\"\u001b[0;36m, line \u001b[0;32m7\u001b[0m\n\u001b[0;31m    U_data_var_length = [ for i in np.linspace(0,,N_lengths)]# list of datasets with variable lengths\u001b[0m\n\u001b[0m                          ^\u001b[0m\n\u001b[0;31mSyntaxError\u001b[0m\u001b[0;31m:\u001b[0m invalid syntax\n"
     ]
    }
   ],
   "source": [
    "# redo for different dataset lengths\n",
    "for i in range(nyears):\n",
    "    CurrentPeriod = ((Year==Years[i]) & (Month >= 10)) | ((Year == (Years[i]+1)) & (Month < 10))\n",
    "    Umax[i] = max(Wsp[CurrentPeriod])\n",
    "    \n",
    "N_lengths\n",
    "U_data_var_length = [ for i in np.linspace(0,,N_lengths)]# list of datasets with variable lengths \n",
    "for U_list in []\n",
    "    UmaxSorted = np.sort(Umax)\n",
    "    b0PWM = np.sum( (1/len(UmaxSorted))*UmaxSorted ) \n",
    "    #b1PWM = np.sum( (1/len(UmaxSorted))*(/)*UmaxSorted ) \n",
    "    b1PWM = 0\n",
    "    N = len(UmaxSorted)\n",
    "    gamma = 0.577\n",
    "    for i in range(N):\n",
    "        b1PWM = (1/N) * ((i-1) /(N-1) ) * UmaxSorted[i]\n",
    "    alphaPWM = (2*b1PWM - b0PWM) / np.log(2)\n",
    "    betaPWM = b0PWM - gamma*alphaPWM\n",
    "    V50PWM = betaPWM + alphaPWM*np.log(50) # yields 50 year \n",
    "#print('PWM: V50= '+str(V50PWM.round(1))+' m/s; alpha='+str(alphaPWM.round(2))+', beta='+str(betaPWM.round(1))+' m/s')"
   ]
  },
  {
   "cell_type": "markdown",
   "metadata": {},
   "source": [
    "### GUMBEL FIT - V50 from another method\n",
    "Now use another method (of your choice) to calculate $V_{50}$ (e.g. max-likelihood, ACER, etc.). <br>\n",
    "How well does this fit the Gumbel PDF (or CDF)?\n",
    "\n",
    " - Max likelihood method chosen"
   ]
  },
  {
   "cell_type": "code",
   "execution_count": null,
   "metadata": {},
   "outputs": [],
   "source": []
  },
  {
   "cell_type": "code",
   "execution_count": 68,
   "metadata": {},
   "outputs": [
    {
     "name": "stderr",
     "output_type": "stream",
     "text": [
      "/tmp/ipykernel_2802/3139498380.py:32: RuntimeWarning: overflow encountered in power\n",
      "  p = (alpha/scale) * ((x-loc)/scale)**(-1-alpha)\n",
      "/home/mi/anaconda3/lib/python3.9/site-packages/scipy/optimize/_numdiff.py:557: RuntimeWarning: invalid value encountered in subtract\n",
      "  df = fun(x) - f0\n",
      "/tmp/ipykernel_2802/3139498380.py:32: RuntimeWarning: overflow encountered in power\n",
      "  p = (alpha/scale) * ((x-loc)/scale)**(-1-alpha)\n",
      "/tmp/ipykernel_2802/3139498380.py:32: RuntimeWarning: overflow encountered in multiply\n",
      "  p = (alpha/scale) * ((x-loc)/scale)**(-1-alpha)\n",
      "/home/mi/anaconda3/lib/python3.9/site-packages/scipy/optimize/_numdiff.py:557: RuntimeWarning: invalid value encountered in subtract\n",
      "  df = fun(x) - f0\n"
     ]
    }
   ],
   "source": [
    "# likelihood function for gumbell distribution\n",
    "from scipy import optimize, stats\n",
    "Wsp_sorted = np.sort(Wsp)\n",
    "\n",
    "#Gumbel \n",
    "gumbel_likelihood = lambda theta :-np.sum( np.log( sp.stats.gumbel_r.pdf(Wsp_sorted,loc=theta[0],scale=theta[1]) ) ) # Definition of the negative log-likelihood function; Wsp is the windspeed\n",
    "gumbel_optimum = optimize.minimize(gumbel_likelihood,[10,3.7]) # Minimization to find the optimal distribut=30.1 m/s\n",
    "\n",
    "# Gumbel likelihood for umaxsorted\n",
    "gumbel_likelihood_max = lambda theta :-np.sum( np.log( abs(sp.stats.gumbel_r.pdf(UmaxSorted,loc=theta[0],scale=theta[1]) ) )) # Definition of the negative log-likelihood function; Wsp is the windspeed\n",
    "gumbel_optimum_max = optimize.minimize(gumbel_likelihood_max,[30,3]) # Minimization to find the optimal distribut=30.1 m/s\n",
    "\n",
    "\n",
    "#Weibull\n",
    "weibull_likelihood = lambda theta: -np.sum(np.log(sp.stats.weibull_min.pdf(UmaxSorted,c=theta[0],scale=theta[1])))\n",
    "weibull_optimum = optimize.minimize(weibull_likelihood,[1,1])\n",
    "\n",
    "#ion parameters\n",
    "# What is U ? \n",
    "#now the optimum is for the parameters scale 0 theta1 and loc theta 0 are calculated \n",
    "\n",
    "#gumbel plot as (i/N+1)\n",
    "\n",
    "gumbel_likelihood2 = lambda theta: -np.sum(np.log(stats.gumbel_r.pdf(Wsp_sorted,scale = theta[1], loc = theta[0]))) # Definition of the gumbel function\n",
    "gumbel_opt2 = sp.optimize.minimize(gumbel_likelihood,[10,5]) # Minimization to find the optimal distribution parameters\n",
    "\n",
    "#Frechet\n",
    "def frechet_cdf(x,alpha,scale,loc=0): \n",
    "    p = np.exp(-((x-loc)/scale)**(-alpha))\n",
    "    return p\n",
    "def frechet_pdf(x,alpha,scale,loc=0): #implementation like this does not really work\n",
    "    p = (alpha/scale) * ((x-loc)/scale)**(-1-alpha)\n",
    "    return p \n",
    "frechet_likelihood = lambda theta: -np.sum(np.log(frechet_pdf(Wsp_sorted,theta[0],theta[1]))) # Definition of the frechet mle function\n",
    "frechet_opt = sp.optimize.minimize(frechet_likelihood,[10,5]) # Minimization to find the optimal distribution parameters\n"
   ]
  },
  {
   "cell_type": "code",
   "execution_count": 27,
   "metadata": {},
   "outputs": [
    {
     "data": {
      "text/plain": [
       "array([30.04518147,  3.09108612])"
      ]
     },
     "metadata": {},
     "output_type": "display_data"
    },
    {
     "data": {
      "text/plain": [
       "array([ 8.88531354, 33.26638446])"
      ]
     },
     "metadata": {},
     "output_type": "display_data"
    }
   ],
   "source": [
    "display(gumbel_optimum_max.x)\n",
    "display(weibull_optimum.x)"
   ]
  },
  {
   "cell_type": "code",
   "execution_count": 29,
   "metadata": {},
   "outputs": [
    {
     "data": {
      "text/plain": [
       "[<matplotlib.lines.Line2D at 0x7f14caa97c70>]"
      ]
     },
     "execution_count": 29,
     "metadata": {},
     "output_type": "execute_result"
    },
    {
     "data": {
      "text/plain": [
       "[<matplotlib.lines.Line2D at 0x7f14caa97e50>]"
      ]
     },
     "execution_count": 29,
     "metadata": {},
     "output_type": "execute_result"
    },
    {
     "data": {
      "text/plain": [
       "[<matplotlib.lines.Line2D at 0x7f14caaab190>]"
      ]
     },
     "execution_count": 29,
     "metadata": {},
     "output_type": "execute_result"
    },
    {
     "data": {
      "text/plain": [
       "Text(0.5, 0, '1 year max ranked')"
      ]
     },
     "execution_count": 29,
     "metadata": {},
     "output_type": "execute_result"
    },
    {
     "data": {
      "text/plain": [
       "Text(0, 0.5, 'pdf fit')"
      ]
     },
     "execution_count": 29,
     "metadata": {},
     "output_type": "execute_result"
    },
    {
     "data": {
      "image/png": "[encoded data removed]",
      "text/plain": [
       "<Figure size 640x480 with 1 Axes>"
      ]
     },
     "metadata": {},
     "output_type": "display_data"
    }
   ],
   "source": [
    "# Compare to data ! \n",
    "if False:\n",
    "    fig1 = plt.figure()\n",
    "    axs1 = plt.gca()\n",
    "    hist1 = axs1.hist(Wsp,50)\n",
    "    plt.xlabel('Mean wind speed [m/s]')\n",
    "    plt.ylabel('Number of occurrences')\n",
    "    plt.title('Histogram of 10-minute mean wind speed at Høvsøre')\n",
    "    plt.show()\n",
    "\n",
    "\n",
    "Wsp_sorted = np.sort(Wsp)\n",
    "\n",
    "\n",
    "#plt.plot(Wsp_sorted,stats.gumbel_r.pdf(Wsp_sorted,loc = gumbel_optimum.x[0],scale = gumbel_optimum.x[1]),'--r')\n",
    "plt.plot(Wsp_sorted,stats.gumbel_r.pdf(Wsp_sorted,loc = gumbel_optimum_max.x[0],scale = gumbel_optimum_max.x[1]),'--r')\n",
    "#plt.plot(Wsp_sorted,stats.gumbel_r.pdf(Wsp_sorted, scale=gumbel_opt2.x[1],loc = gumbel_opt2.x[0]),'--r')\n",
    "plt.plot(Wsp_sorted,stats.gumbel_r.pdf(Wsp_sorted,loc = betaPWM, scale=alphaPWM ),color=\"y\")\n",
    "plt.plot(Wsp_sorted,stats.weibull_min.pdf(Wsp_sorted,weibull_optimum.x[0],scale=weibull_optimum.x[1]))\n",
    "plt.xlabel(\"1 year max ranked\")\n",
    "plt.ylabel(\"pdf fit\")"
   ]
  },
  {
   "cell_type": "code",
   "execution_count": 44,
   "metadata": {},
   "outputs": [
    {
     "name": "stdout",
     "output_type": "stream",
     "text": [
      " Beta: PWM:30.077226454975012 \t Gumbel: 30.04518146786341\n",
      " Beta: PWM:2.798058243307122 \t Gumbel: 3.0910861220777983\n",
      "[ 8.88531354 33.26638446]\n"
     ]
    }
   ],
   "source": [
    "print(f\" Beta: PWM:{betaPWM} \\t Gumbel: {gumbel_optimum_max.x[0]}\")\n",
    "print(f\" Beta: PWM:{alphaPWM} \\t Gumbel: {gumbel_optimum_max.x[1]}\")\n",
    "#print(f\" Beta: PWM:{alphaPWM} \\t Gumbel: {gumbel_optimum_max.x[1]}\")\n",
    "print(weibull_optimum.x)\n",
    "V50_mle = gumbel_optimum_max.x[0] + gumbel_optimum_max.x[1]*np.log(50) # yields 50 year \n",
    "#get v50 from 2% approximation\n",
    "V50_weibull_mle = stats.weibull_min.ppf(.98,weibull_optimum.x[0],scale=weibull_optimum.x[1] )\n",
    "V50_gumbelPWM_2 = stats.gumbel_r.ppf(.98,loc = betaPWM, scale=alphaPWM)\n",
    "# do the thumb rule\n",
    "V50_thumb = 5* np.mean(Wsp)"
   ]
  },
  {
   "cell_type": "code",
   "execution_count": 45,
   "metadata": {},
   "outputs": [
    {
     "name": "stdout",
     "output_type": "stream",
     "text": [
      "42.13758148919143\n"
     ]
    }
   ],
   "source": [
    "print(V50_mle)"
   ]
  },
  {
   "cell_type": "code",
   "execution_count": 47,
   "metadata": {},
   "outputs": [
    {
     "name": "stdout",
     "output_type": "stream",
     "text": [
      "V50 for Gumbel with PWM: 41.023294673320336\n",
      "V50 for Gumbel with MLE: 42.13758148919143\n",
      "V50 for Weibull with MLE: 38.78623077226182\n",
      "V50 for Gumbel with MLE and 2% rule: 40.9950780816911\n",
      "V50 for thumb rule :  46.10867496455005\n"
     ]
    }
   ],
   "source": [
    "# get the 50 year max by the 2% approximation \n",
    "\n",
    "print(f'V50 for Gumbel with PWM: {V50PWM}')\n",
    "print(f'V50 for Gumbel with MLE: {V50_mle}')\n",
    "print(f'V50 for Weibull with MLE: {V50_weibull_mle}')\n",
    "print(f'V50 for Gumbel with MLE and 2% rule: {V50_gumbelPWM_2}')\n",
    "print(f'V50 for thumb rule :  {V50_thumb}')\n",
    "#print(stats.gumbel_r.ppf(.98,loc = betaPWM, scale=alphaPWM))\n",
    "\n",
    "#print(stats.gumbel_r.ppf(.98,loc = gumbel_optimum_max.x[0], scale=gumbel_optimum_max.x[1]))\n"
   ]
  },
  {
   "cell_type": "code",
   "execution_count": 64,
   "metadata": {},
   "outputs": [
    {
     "data": {
      "text/plain": [
       "[<matplotlib.lines.Line2D at 0x7f14ca455280>]"
      ]
     },
     "execution_count": 64,
     "metadata": {},
     "output_type": "execute_result"
    },
    {
     "data": {
      "text/plain": [
       "Text(0.5, 1.0, 'V50 values for different Methods')"
      ]
     },
     "execution_count": 64,
     "metadata": {},
     "output_type": "execute_result"
    },
    {
     "data": {
      "text/plain": [
       "Text(0.5, 0, 'V50 [m/s]')"
      ]
     },
     "execution_count": 64,
     "metadata": {},
     "output_type": "execute_result"
    },
    {
     "data": {
      "image/png": "[encoded data removed]",
      "text/plain": [
       "<Figure size 640x480 with 1 Axes>"
      ]
     },
     "metadata": {},
     "output_type": "display_data"
    }
   ],
   "source": [
    "V50_list = [V50PWM,V50_mle,V50_weibull_mle,V50_gumbelPWM_2,V50_thumb]\n",
    "plt.plot(V50_list, [1]*len(V50_list),'o',markersize=12,alpha=.5)\n",
    "plt.title(\"V50 values for different Methods\")\n",
    "plt.xlabel(\"V50 [m/s]\")"
   ]
  },
  {
   "cell_type": "code",
   "execution_count": 86,
   "metadata": {},
   "outputs": [
    {
     "name": "stdout",
     "output_type": "stream",
     "text": [
      "[7.12936244 3.74642124]\n",
      "[30.04518147  3.09108612]\n"
     ]
    }
   ],
   "source": [
    "print(gumbel_opt2.x)\n",
    "print(gumbel_optimum_max.x)"
   ]
  },
  {
   "cell_type": "code",
   "execution_count": 89,
   "metadata": {},
   "outputs": [
    {
     "data": {
      "text/plain": [
       "30.077226454975012"
      ]
     },
     "execution_count": 89,
     "metadata": {},
     "output_type": "execute_result"
    }
   ],
   "source": [
    "betaPWM"
   ]
  },
  {
   "cell_type": "code",
   "execution_count": 91,
   "metadata": {},
   "outputs": [
    {
     "data": {
      "text/plain": [
       "[<matplotlib.lines.Line2D at 0x7f14c96e0d00>]"
      ]
     },
     "execution_count": 91,
     "metadata": {},
     "output_type": "execute_result"
    },
    {
     "data": {
      "text/plain": [
       "[<matplotlib.lines.Line2D at 0x7f14c96ea100>]"
      ]
     },
     "execution_count": 91,
     "metadata": {},
     "output_type": "execute_result"
    },
    {
     "data": {
      "image/png": "[encoded data removed]",
      "text/plain": [
       "<Figure size 640x480 with 1 Axes>"
      ]
     },
     "metadata": {},
     "output_type": "display_data"
    }
   ],
   "source": [
    "#plt.plot(UmaxSorted)\n",
    "#plt.plot(Wsp_sorted,stats.gumbel_r.pdf(Wsp_sorted,loc = gumbel_optimum_max.x[0],scale = gumbel_optimum_max.x[1]),'--r')\n",
    "uT = lambda T: betaPWM +  alphaPWM * np.log(T/1)\n",
    "uT_mle = lambda T: gumbel_optimum_max.x[0] +  gumbel_optimum_max.x[1] * np.log(T/1)\n",
    "x = np.arange(1,100)\n",
    "plt.semilogx(x, [uT(xi) for xi in x])\n",
    "plt.semilogx(x, [uT_mle(xi) for xi in x])"
   ]
  },
  {
   "cell_type": "code",
   "execution_count": 108,
   "metadata": {},
   "outputs": [
    {
     "data": {
      "text/plain": [
       "KstestResult(statistic=0.9999999999949549, pvalue=3.5230002200630353e-181)"
      ]
     },
     "execution_count": 108,
     "metadata": {},
     "output_type": "execute_result"
    }
   ],
   "source": [
    "# try ks test \n",
    "# result does not make sense - not for normal dist. either\n",
    "sp.stats.kstest(UmaxSorted, 'gumbel_r') # ,args=(alphaPWM))"
   ]
  },
  {
   "cell_type": "code",
   "execution_count": 121,
   "metadata": {},
   "outputs": [
    {
     "data": {
      "text/plain": [
       "[<matplotlib.lines.Line2D at 0x7f14c9185d30>]"
      ]
     },
     "execution_count": 121,
     "metadata": {},
     "output_type": "execute_result"
    },
    {
     "data": {
      "text/plain": [
       "[<matplotlib.lines.Line2D at 0x7f14c91921f0>]"
      ]
     },
     "execution_count": 121,
     "metadata": {},
     "output_type": "execute_result"
    },
    {
     "data": {
      "image/png": "[encoded data removed]",
      "text/plain": [
       "<Figure size 640x480 with 1 Axes>"
      ]
     },
     "metadata": {},
     "output_type": "display_data"
    }
   ],
   "source": [
    "# make the log plot for U_ranked \n",
    "A = np.trapz(UmaxSorted)\n",
    "B = np.trapz(UmaxSorted)\n",
    "plt.plot(UmaxSorted)\n",
    "plt.plot(sp.stats.gumbel_r.cdf(UmaxSorted,betaPWM,scale=alphaPWM))"
   ]
  },
  {
   "cell_type": "code",
   "execution_count": 119,
   "metadata": {},
   "outputs": [
    {
     "data": {
      "text/plain": [
       "473.763147354126"
      ]
     },
     "execution_count": 119,
     "metadata": {},
     "output_type": "execute_result"
    }
   ],
   "source": [
    "A"
   ]
  },
  {
   "cell_type": "markdown",
   "metadata": {},
   "source": [
    "### To dp\n",
    "- comparison of values \n",
    " - IEC turb - makes a difference ? \n",
    " - plot of different results \n",
    " - 42.5 limit "
   ]
  },
  {
   "cell_type": "markdown",
   "metadata": {},
   "source": [
    "# 1b: Uncertainty in $V_{50}$ estimates\n",
    "Using the $\\alpha$-parameter you found above in [1a] using _the whole 16-year timeseries_, \n",
    "- do bootstrap sampling with many 2-year segments to get a distribution of $f_{2y}(\\alpha$ and $f_{2y}(V_{50})$; \n",
    "     - what is the uncertainty in using 2-year segments, i.e., the standard deviation $\\sigma_{V50_\\textrm{fit 2yr}}$\n",
    "- repeat this for other segment lengths (3 years, 4y...10y), to get (fit) a relation for $\\sigma^2_{V50}(T_\\textrm{segment})$\n",
    "- How does your relation for $\\sigma^2_{V50}(T_\\textrm{segment})$ compare to the Ott(2011) expression for $\\sigma^2_{U_T}$? \n",
    "    - ignoring $\\beta$, how much variation in $\\alpha$ (e.g. $\\sigma_\\alpha/\\langle\\alpha\\rangle$) does your $\\sigma^2_{V50}(T_\\textrm{segment})$ correspond to? "
   ]
  },
  {
   "cell_type": "code",
   "execution_count": null,
   "metadata": {},
   "outputs": [],
   "source": []
  },
  {
   "cell_type": "code",
   "execution_count": 51,
   "metadata": {},
   "outputs": [
    {
     "data": {
      "text/plain": [
       "[<matplotlib.lines.Line2D at 0x7f14ca98a460>]"
      ]
     },
     "execution_count": 51,
     "metadata": {},
     "output_type": "execute_result"
    },
    {
     "data": {
      "image/png": "[encoded data removed]",
      "text/plain": [
       "<Figure size 640x480 with 1 Axes>"
      ]
     },
     "metadata": {},
     "output_type": "display_data"
    }
   ],
   "source": [
    "import numpy as np\n",
    "import matplotlib.pyplot as pp\n",
    "val = 0. # this is the value where you want the data to appear on the y-axis.\n",
    "ar = np.arange(10) # just as an example array\n",
    "pp.plot(ar, np.zeros_like(ar) + val, 'x')\n",
    "pp.show()\n"
   ]
  },
  {
   "cell_type": "code",
   "execution_count": null,
   "metadata": {},
   "outputs": [],
   "source": []
  }
 ],
 "metadata": {
  "anaconda-cloud": {},
  "kernelspec": {
   "display_name": "Python 3 (ipykernel)",
   "language": "python",
   "name": "python3"
  },
  "language_info": {
   "codemirror_mode": {
    "name": "ipython",
    "version": 3
   },
   "file_extension": ".py",
   "mimetype": "text/x-python",
   "name": "python",
   "nbconvert_exporter": "python",
   "pygments_lexer": "ipython3",
   "version": "3.9.12"
  }
 },
 "nbformat": 4,
 "nbformat_minor": 2
}
