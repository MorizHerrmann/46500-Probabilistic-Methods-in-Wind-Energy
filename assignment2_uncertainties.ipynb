{
 "cells": [
  {
   "cell_type": "code",
   "execution_count": 14,
   "id": "7119c324",
   "metadata": {},
   "outputs": [
    {
     "name": "stdout",
     "output_type": "stream",
     "text": [
      "Process: 0.00%\n",
      "Process: 4.00%\n",
      "Process: 8.00%\n",
      "Process: 12.00%\n",
      "Process: 16.00%\n",
      "Process: 20.00%\n",
      "Process: 24.00%\n",
      "Process: 28.00%\n",
      "Process: 32.00%\n",
      "Process: 36.00%\n",
      "Process: 40.00%\n",
      "Process: 44.00%\n",
      "Process: 48.00%\n",
      "Process: 52.00%\n",
      "Process: 56.00%\n",
      "Process: 60.00%\n",
      "Process: 64.00%\n",
      "Process: 68.00%\n",
      "Process: 72.00%\n",
      "Process: 76.00%\n",
      "Process: 80.00%\n",
      "Process: 84.00%\n",
      "Process: 88.00%\n",
      "Process: 92.00%\n",
      "Process: 96.00%\n"
     ]
    }
   ],
   "source": [
    "from procedure import generate_train_predict\n",
    "\n",
    "N = 25\n",
    "\n",
    "sol = []\n",
    "\n",
    "for i in range(N):\n",
    "    s = generate_train_predict()\n",
    "    sol.append(s)\n",
    "    print(f'Process: {(i+1)/N*100:.0f}%')"
   ]
  },
  {
   "cell_type": "code",
   "execution_count": 15,
   "id": "cfceda62",
   "metadata": {},
   "outputs": [
    {
     "name": "stdout",
     "output_type": "stream",
     "text": [
      "Average uncertainty of the model with the current hyperparameters\n",
      "Absolute:\t4042kNm\n",
      "Relative:\t6.405504%\n"
     ]
    }
   ],
   "source": [
    "# Standard uncertainty\n",
    "import numpy as np\n",
    "\n",
    "E = np.array([sol[i]['E'] for i in range(N)])  # expectations\n",
    "u = np.array([sol[i]['u'] for i in range(N)])  # uncertainties\n",
    "\n",
    "print('Average uncertainty of the model with the current hyperparameters')\n",
    "print(f'Absolute:\\t{u.mean():.0f}kNm')\n",
    "print(f'Relative:\\t{u.mean()/E.mean()*100.:1f}%')"
   ]
  },
  {
   "cell_type": "code",
   "execution_count": 16,
   "id": "4290382b",
   "metadata": {},
   "outputs": [
    {
     "name": "stdout",
     "output_type": "stream",
     "text": [
      "Realization-to-realization uncertainty for the expected load\n",
      "Absolute:\t205kNm\n",
      "Relative:\t0.3%\n"
     ]
    }
   ],
   "source": [
    "# Realization-to-realization uncertainty\n",
    "\n",
    "print('Realization-to-realization uncertainty for the expected load')\n",
    "print(f'Absolute:\\t{E.std():.0f}kNm')\n",
    "print(f'Relative:\\t{E.std()/E.mean()*100:.1f}%')"
   ]
  },
  {
   "cell_type": "code",
   "execution_count": 20,
   "id": "eeb6c0be",
   "metadata": {},
   "outputs": [
    {
     "name": "stdout",
     "output_type": "stream",
     "text": [
      "Average predicted expectation:\t63106kNm\n",
      "Average true expectation:\t63078kNm\n",
      "Average deviation:\t\t0%\n",
      "\n",
      "Average predicted standard deviation:\t6963kNm\n",
      "Average true standard deviation:\t8041kNm\n",
      "Average deviation:\t\t-13%\n"
     ]
    }
   ],
   "source": [
    "# Compare statistics of predicted and true data\n",
    "\n",
    "E_pred = E\n",
    "E_true = np.array([np.mean(sol[i]['y_true']) for i in range(N)])\n",
    "E_dev = (E_pred-E_true)/E_true\n",
    "\n",
    "\n",
    "std_pred = np.array([np.std(sol[i]['y_pred']) for i in range(N)])\n",
    "std_true = np.array([np.std(sol[i]['y_true']) for i in range(N)])\n",
    "std_dev = (std_pred-std_true)/std_true\n",
    "\n",
    "\n",
    "\n",
    "print(f'Average predicted expectation:\\t{E_pred.mean():.0f}kNm')\n",
    "print(f'Average true expectation:\\t{E_true.mean():.0f}kNm')\n",
    "print(f'Average deviation:\\t\\t{E_dev.mean()*100:.0f}%\\n')\n",
    "\n",
    "print(f'Average predicted standard deviation:\\t{std_pred.mean():.0f}kNm')\n",
    "print(f'Average true standard deviation:\\t{std_true.mean():.0f}kNm')\n",
    "print(f'Average deviation:\\t\\t{std_dev.mean()*100:.0f}%')"
   ]
  }
 ],
 "metadata": {
  "kernelspec": {
   "display_name": "Python 3 (ipykernel)",
   "language": "python",
   "name": "python3"
  },
  "language_info": {
   "codemirror_mode": {
    "name": "ipython",
    "version": 3
   },
   "file_extension": ".py",
   "mimetype": "text/x-python",
   "name": "python",
   "nbconvert_exporter": "python",
   "pygments_lexer": "ipython3",
   "version": "3.9.12"
  }
 },
 "nbformat": 4,
 "nbformat_minor": 5
}
