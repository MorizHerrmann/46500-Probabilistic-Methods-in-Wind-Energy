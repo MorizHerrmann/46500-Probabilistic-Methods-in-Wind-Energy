{
 "cells": [
  {
   "cell_type": "markdown",
   "id": "6f20381b",
   "metadata": {},
   "source": [
    "# Uncertainty Analysis\n",
    "\n",
    "The objective is to create a model for $y=f(x)$ where the output $y$ is the 10min extreme blade root flapwise moment and the input $x=(u, \\sigma, \\alpha)$ is the 10min wind speed, standard deviation and shear exponent. In reality all of these quantities are subject to an uncertainty, but in this exercise only the uncertainty in the loads $\\varepsilon_y$ and the model uncertainty $\\varepsilon_f$ are observed.\n",
    "\n",
    "$y + \\varepsilon_y = f(x) + \\varepsilon_f$\n",
    "\n",
    "## Unexplained Variance\n",
    "\n",
    "In a first step, the unexplained variance is estimated. Indeed, the loads underlie random fluctuations which the model cannot predict regardless of its accuracy. In order to quantify its magnitude the MysteriousLoadFunc() is executed several times for the same input. For each input point the uncertainty of the loads is evaluated and averaged over all samples."
   ]
  },
  {
   "cell_type": "code",
   "execution_count": 45,
   "id": "31db4abb",
   "metadata": {},
   "outputs": [
    {
     "name": "stdout",
     "output_type": "stream",
     "text": [
      "Uncertainty of mean:\t42.08kNm = 0.07%\n",
      "Unexplaind uncertainty:\t3971kNm = 6.28%\n"
     ]
    },
    {
     "data": {
      "image/png": "[encoded data removed]",
      "text/plain": [
       "<Figure size 1080x360 with 2 Axes>"
      ]
     },
     "metadata": {
      "needs_background": "light"
     },
     "output_type": "display_data"
    }
   ],
   "source": [
    "from sample import rosenblatt\n",
    "from loads import MysteriousLoadFunc\n",
    "import matplotlib.pyplot as plt\n",
    "import numpy as np\n",
    "\n",
    "nx = 10000\n",
    "ny = 100\n",
    "\n",
    "x = rosenblatt(nx)\n",
    "\n",
    "y = np.zeros((nx, ny))\n",
    "for i in range(ny):\n",
    "    y[:, i] = MysteriousLoadFunc(x)\n",
    "\n",
    "# How does the mean change over several executions?    \n",
    "mean_y = np.mean(y, axis=0)\n",
    "print(f'Uncertainty of mean:\\t{np.std(mean_y):.0f}kNm = {np.std(mean_y)/mean_y.mean()*100:.2f}%')\n",
    "\n",
    "# What is the unexplained variance?\n",
    "var_y = np.var(y, axis=1).mean()\n",
    "std_y = np.std(y, axis=1)\n",
    "print(f'Unexplaind uncertainty:\\t{std_y.mean():.0f}kNm = {std_y.mean()/mean_y.mean()*100:.2f}%')\n",
    "\n",
    "fig, axs = plt.subplots(1, 2, figsize=(15, 5))\n",
    "axs[0].hist(mean_y, density=True)\n",
    "axs[0].set_title('Distribution of the mean')\n",
    "axs[0].set_xlabel('Mean load [kNm]')\n",
    "axs[0].set_ylabel('pdf')\n",
    "\n",
    "axs[1].hist(std_y, density=True)\n",
    "axs[1].set_title('Distribution of the uncertainty')\n",
    "axs[1].set_xlabel('Load uncertainty [kNm]');\n"
   ]
  },
  {
   "cell_type": "markdown",
   "id": "fe9aeba0",
   "metadata": {},
   "source": [
    "The first observation is that the fluctuations in the mean are negligible ($\\approx 0.06\\%$) which is good because it means that the statistics are stable. However, the second ovservation is that the unexplained deviation is very significant ($\\approx 6\\%$) and it is discussed later in the context of other uncertainties. Note that the law for the uncertainty of a mean is quite accurately observed $\\sigma_{\\mu_y} = \\sigma_y/\\sqrt{N}=\\sigma_y/100$. "
   ]
  },
  {
   "cell_type": "markdown",
   "id": "7939d983",
   "metadata": {},
   "source": [
    "## Explained Variance\n",
    "\n",
    "In the next step, a model $f$ is trained to predict the loads from the input. By comparing the true to the predicted output the total error $\\varepsilon$ captured.\n",
    "\n",
    "$y = f(x) + \\varepsilon = f(x) + \\varepsilon_f - \\varepsilon_y$\n",
    "\n",
    "Subtracting $f(x)$ on both sides the errors are analyzed. Assuming there is no correlation between the true uncertainty $\\varepsilon_y$ and the model uncertainty $\\varepsilon_f$, which is very certain in this exercise, the explained variance of the model $Var[\\varepsilon_f]$ is disseminated. \n",
    "\n",
    "$Var[\\varepsilon] = Var[\\varepsilon_f - \\varepsilon_y]  = Var[\\varepsilon_f] + Var[\\varepsilon_y]$\n",
    "\n",
    "To execute such an analysis in the following section, data is generated, a model is trained and its predictions are compared to the true values. "
   ]
  },
  {
   "cell_type": "code",
   "execution_count": 62,
   "id": "eeb6c0be",
   "metadata": {},
   "outputs": [
    {
     "name": "stdout",
     "output_type": "stream",
     "text": [
      "Predicted expectation:    63166kNm\n",
      "True expectation:         63197kNm\n",
      "Deviation:                -0%\n",
      "\n",
      "Predicted std. deviation: 7684kNm\n",
      "True std. deviation:      8173kNm\n",
      "Deviation:                -6%\n"
     ]
    }
   ],
   "source": [
    "import numpy as np\n",
    "from procedure import model\n",
    "from sample import rosenblatt\n",
    "\n",
    "x = rosenblatt(10000)\n",
    "y = MysteriousLoadFunc(x)\n",
    "\n",
    "sol = model(x, y)\n",
    "\n",
    "# Compare statistics of predicted and true data\n",
    "E_pred = sol['y_pred'].mean()\n",
    "E_true = sol['y_true'].mean()\n",
    "print(f'Predicted expectation:    {E_pred:.0f}kNm')\n",
    "print(f'True expectation:         {E_true:.0f}kNm')\n",
    "print(f'Deviation:                {(E_pred-E_true)/E_true*100:.2f}%\\n')\n",
    "\n",
    "std_pred = np.std(sol['y_pred'])\n",
    "std_true = np.std(sol['y_true'])\n",
    "print(f'Predicted std. deviation: {std_pred:.0f}kNm')\n",
    "print(f'True std. deviation:      {std_true:.0f}kNm')\n",
    "print(f'Deviation:                {(std_pred-std_true)/std_true*100:.2f}%')"
   ]
  },
  {
   "cell_type": "markdown",
   "id": "cd40f7bd",
   "metadata": {},
   "source": [
    "It is a good news that the expectations of the predictions and the true values match. But is still not a proof that the model is unbiased. It is remarkable that the the model fluctuates less than the true values. Therefore, not the whole variation is captured. Now, let's take a closer look on the uncertainties. \n",
    "\n",
    "### ToDo: The comparison of the expectations does not tell a lot. It is better to show the distribution of the errors. I think we did it somewhere. So we should restructure it. "
   ]
  },
  {
   "cell_type": "code",
   "execution_count": 47,
   "id": "cfceda62",
   "metadata": {},
   "outputs": [
    {
     "name": "stdout",
     "output_type": "stream",
     "text": [
      "Total uncertainty:\t4039kNm = 6.39%\n",
      "Explained variance:\t2.85%\n"
     ]
    }
   ],
   "source": [
    "# total uncertainty (rms)\n",
    "std = np.sqrt( np.sum( np.power(sol['y_pred'] - sol['y_true'], 2) ) / (sol['y_pred'].shape[0]-1) )\n",
    "print(f'Total uncertainty:\\t{std:.0f}kNm = {std/y.mean()*100:.2f}%')\n",
    "\n",
    "# explained variance\n",
    "var_f = std**2 - var_y\n",
    "print(f'Explained variance:\\t{var_f/u**2*100:.2f}%')"
   ]
  },
  {
   "cell_type": "markdown",
   "id": "ed980902",
   "metadata": {},
   "source": [
    "To sum it up, there is total uncertainty of the model predictions to the true value of nearly 6.4%. Around 3% of this variance is explained by the model and accordingly 97% are based on the randomness of the true values i.e. not explainable by the model.\n",
    "\n",
    "It is difficult to deliver a general assessment whether it is good or bad for the model to have a low uncertainty or a high variance. Because the true values inherently are stochastically distributed the deterministic model cannot capture its behavior. A compromise is necessary between an accurate model that minimizes the uncertainty and always delivers the expected value, and a model with a high variance that fluctuates in order to capture the spread of the true values. "
   ]
  },
  {
   "cell_type": "markdown",
   "id": "86245197",
   "metadata": {},
   "source": [
    "## Realization-to-realization uncertainty\n",
    "\n",
    "By now, we have discussed the uncertainty in the MysteriousLoadFunc() but there is an uncertainty in the generation of the input data $x$ as well. Even if the distributions are the same the ensembles will differ. To analyze the effects several data sets are generated and each time a model is trained. Finally, the statistics are compared. \n",
    "### ToDo: Remove \"print(f'Process: {(i+1)/N*100:.0f}%')\" before publishing"
   ]
  },
  {
   "cell_type": "code",
   "execution_count": 63,
   "id": "7119c324",
   "metadata": {},
   "outputs": [
    {
     "name": "stdout",
     "output_type": "stream",
     "text": [
      "Process: 4%\n",
      "Process: 8%\n",
      "Process: 12%\n",
      "Process: 16%\n",
      "Process: 20%\n",
      "Process: 24%\n",
      "Process: 28%\n",
      "Process: 32%\n",
      "Process: 36%\n",
      "Process: 40%\n",
      "Process: 44%\n",
      "Process: 48%\n",
      "Process: 52%\n",
      "Process: 56%\n",
      "Process: 60%\n",
      "Process: 64%\n",
      "Process: 68%\n",
      "Process: 72%\n",
      "Process: 76%\n",
      "Process: 80%\n",
      "Process: 84%\n",
      "Process: 88%\n",
      "Process: 92%\n",
      "Process: 96%\n",
      "Process: 100%\n"
     ]
    }
   ],
   "source": [
    "from procedure import model\n",
    "\n",
    "N = 25\n",
    "\n",
    "sol = []\n",
    "for i in range(N):\n",
    "    x = rosenblatt(10000)\n",
    "    y = MysteriousLoadFunc(x)\n",
    "    s = model(x, y)\n",
    "    sol.append(s)\n",
    "    print(f'Process: {(i+1)/N*100:.0f}%')"
   ]
  },
  {
   "cell_type": "code",
   "execution_count": 70,
   "id": "4290382b",
   "metadata": {},
   "outputs": [
    {
     "name": "stdout",
     "output_type": "stream",
     "text": [
      "Mean: 4063kNm = 6.43%\n",
      "Std:  98kNm = 0.16%\n",
      "Min:  3912kNm = 6.19%\n",
      "Max:  4388kNm = 6.94%\n"
     ]
    },
    {
     "data": {
      "image/png": "[encoded data removed]",
      "text/plain": [
       "<Figure size 432x288 with 1 Axes>"
      ]
     },
     "metadata": {
      "needs_background": "light"
     },
     "output_type": "display_data"
    }
   ],
   "source": [
    "import matplotlib.pyplot as plt\n",
    "\n",
    "u = np.array([sol[i]['u'] for i in range(N)])\n",
    "E = np.mean([sol[i]['E'] for i in range(N)])\n",
    "\n",
    "plt.figure()\n",
    "plt.hist(u, density=True)\n",
    "plt.xlabel('Uncertainty [kNm]')\n",
    "plt.ylabel('pdf')\n",
    "plt.title('Distribution of the uncertainty over different realizations')\n",
    "\n",
    "print(f'Mean: {u.mean():.0f}kNm = {u.mean()/E*100:.2f}%')\n",
    "print(f'Std:  {u.std():.0f}kNm = {u.std()/E*100:.2f}%')\n",
    "print(f'Min:  {u.min():.0f}kNm = {u.min()/E*100:.2f}%')\n",
    "print(f'Max:  {u.max():.0f}kNm = {u.max()/E*100:.2f}%')"
   ]
  },
  {
   "cell_type": "markdown",
   "id": "ee530fe8",
   "metadata": {},
   "source": [
    "The uncertainty fluctuates between 3900-4400kNm with a standard deviation of nearly 100kNm around the mean 4050kNm which is 6.4% of the expected load. The realization used in the sections before places itself right in the middle of this distribution. "
   ]
  },
  {
   "cell_type": "code",
   "execution_count": null,
   "id": "bf5643cb",
   "metadata": {},
   "outputs": [],
   "source": []
  }
 ],
 "metadata": {
  "kernelspec": {
   "display_name": "Python 3 (ipykernel)",
   "language": "python",
   "name": "python3"
  },
  "language_info": {
   "codemirror_mode": {
    "name": "ipython",
    "version": 3
   },
   "file_extension": ".py",
   "mimetype": "text/x-python",
   "name": "python",
   "nbconvert_exporter": "python",
   "pygments_lexer": "ipython3",
   "version": "3.9.12"
  }
 },
 "nbformat": 4,
 "nbformat_minor": 5
}
